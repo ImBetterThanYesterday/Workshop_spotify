{
 "cells": [
  {
   "cell_type": "code",
   "execution_count": 41,
   "id": "initial_id",
   "metadata": {
    "collapsed": true,
    "id": "initial_id",
    "ExecuteTime": {
     "end_time": "2023-10-15T03:17:00.091867200Z",
     "start_time": "2023-10-15T03:16:59.601034800Z"
    }
   },
   "outputs": [],
   "source": [
    "import pandas as pd\n",
    "import numpy as np\n",
    "import psycopg2\n",
    "import seaborn as sns\n",
    "import matplotlib.pyplot as plt\n",
    "import json\n",
    "from sqlalchemy import create_engine\n"
   ]
  },
  {
   "cell_type": "markdown",
   "source": [
    "## this is a _Data_Engineer_interview"
   ],
   "metadata": {
    "collapsed": false,
    "id": "23fc302be05ca434"
   },
   "id": "23fc302be05ca434"
  },
  {
   "cell_type": "markdown",
   "source": [],
   "metadata": {
    "collapsed": false,
    "id": "afdca357c92f4ae8"
   },
   "id": "afdca357c92f4ae8"
  },
  {
   "cell_type": "code",
   "execution_count": 42,
   "outputs": [
    {
     "name": "stdout",
     "output_type": "stream",
     "text": [
      "   year                              title               published_at  \\\n",
      "0  2019  62nd Annual GRAMMY Awards  (2019)  2020-05-19T05:10:28-07:00   \n",
      "1  2019  62nd Annual GRAMMY Awards  (2019)  2020-05-19T05:10:28-07:00   \n",
      "2  2019  62nd Annual GRAMMY Awards  (2019)  2020-05-19T05:10:28-07:00   \n",
      "3  2019  62nd Annual GRAMMY Awards  (2019)  2020-05-19T05:10:28-07:00   \n",
      "4  2019  62nd Annual GRAMMY Awards  (2019)  2020-05-19T05:10:28-07:00   \n",
      "\n",
      "                  updated_at            category     nominee         artist  \\\n",
      "0  2020-05-19T05:10:28-07:00  Record Of The Year     Bad Guy  Billie Eilish   \n",
      "1  2020-05-19T05:10:28-07:00  Record Of The Year     Hey, Ma       Bon Iver   \n",
      "2  2020-05-19T05:10:28-07:00  Record Of The Year     7 rings  Ariana Grande   \n",
      "3  2020-05-19T05:10:28-07:00  Record Of The Year  Hard Place         H.E.R.   \n",
      "4  2020-05-19T05:10:28-07:00  Record Of The Year        Talk         Khalid   \n",
      "\n",
      "                                             workers  \\\n",
      "0  Finneas O'Connell, producer; Rob Kinelski & Fi...   \n",
      "1  BJ Burton, Brad Cook, Chris Messina & Justin V...   \n",
      "2  Charles Anderson, Tommy Brown, Michael Foster ...   \n",
      "3  Rodney “Darkchild” Jerkins, producer; Joseph H...   \n",
      "4  Disclosure & Denis Kosiak, producers; Ingmar C...   \n",
      "\n",
      "                                                 img  winner  \n",
      "0  https://www.grammy.com/sites/com/files/styles/...    True  \n",
      "1  https://www.grammy.com/sites/com/files/styles/...    True  \n",
      "2  https://www.grammy.com/sites/com/files/styles/...    True  \n",
      "3  https://www.grammy.com/sites/com/files/styles/...    True  \n",
      "4  https://www.grammy.com/sites/com/files/styles/...    True  \n"
     ]
    }
   ],
   "source": [
    "file_name=\"C:/Users/Guatavo/Documents/5toSemestre/ETL/wokshop_002/the_grammy_awards.csv\"\n",
    "#file_name=\"the_grammy_awards.csv\"\n",
    "df=pd.read_csv(file_name)\n",
    "print(df.head())"
   ],
   "metadata": {
    "colab": {
     "base_uri": "https://localhost:8080/",
     "height": 390
    },
    "id": "b74871cb397d36e8",
    "outputId": "d94ac29d-0dfd-4dc5-a74e-9d972f33f103",
    "ExecuteTime": {
     "end_time": "2023-10-15T03:17:00.436065Z",
     "start_time": "2023-10-15T03:16:59.633438900Z"
    }
   },
   "id": "b74871cb397d36e8"
  },
  {
   "cell_type": "markdown",
   "source": [
    "# Analisis Exploratorio De Los Datos\n",
    "## ¿Qué tipo de dato son las variables del conjunto de datos?"
   ],
   "metadata": {
    "collapsed": false,
    "id": "82a1270f34fc3842"
   },
   "id": "82a1270f34fc3842"
  },
  {
   "cell_type": "code",
   "execution_count": 43,
   "outputs": [
    {
     "data": {
      "text/plain": "year             int64\ntitle           object\npublished_at    object\nupdated_at      object\ncategory        object\nnominee         object\nartist          object\nworkers         object\nimg             object\nwinner            bool\ndtype: object"
     },
     "execution_count": 43,
     "metadata": {},
     "output_type": "execute_result"
    }
   ],
   "source": [
    "df.dtypes"
   ],
   "metadata": {
    "colab": {
     "base_uri": "https://localhost:8080/"
    },
    "id": "893cc2e948442d84",
    "outputId": "a2953e63-7472-4fb8-fb52-d241c5e42653",
    "ExecuteTime": {
     "end_time": "2023-10-15T03:17:00.436065Z",
     "start_time": "2023-10-15T03:16:59.695940700Z"
    }
   },
   "id": "893cc2e948442d84"
  },
  {
   "cell_type": "markdown",
   "source": [
    "## ¿Cuántas variables de cada tipo de dato tenemos en el conjunto de datos?"
   ],
   "metadata": {
    "collapsed": false,
    "id": "b1730ce57f90a052"
   },
   "id": "b1730ce57f90a052"
  },
  {
   "cell_type": "code",
   "execution_count": 44,
   "outputs": [
    {
     "data": {
      "text/plain": "object    8\nint64     1\nbool      1\ndtype: int64"
     },
     "execution_count": 44,
     "metadata": {},
     "output_type": "execute_result"
    }
   ],
   "source": [
    "(\n",
    "    df\n",
    "    .dtypes\n",
    "    .value_counts()\n",
    ")"
   ],
   "metadata": {
    "colab": {
     "base_uri": "https://localhost:8080/"
    },
    "id": "b1da7185ea298347",
    "outputId": "29785d74-db11-4ec9-abac-b6a1617115fe",
    "ExecuteTime": {
     "end_time": "2023-10-15T03:17:00.436065Z",
     "start_time": "2023-10-15T03:16:59.695940700Z"
    }
   },
   "id": "b1da7185ea298347"
  },
  {
   "cell_type": "markdown",
   "source": [
    "## ¿Cuántas variables y observaciones tenemos en el conjunto de datos?"
   ],
   "metadata": {
    "collapsed": false,
    "id": "29632666437faaf0"
   },
   "id": "29632666437faaf0"
  },
  {
   "cell_type": "code",
   "execution_count": 45,
   "outputs": [
    {
     "data": {
      "text/plain": "(4810, 10)"
     },
     "execution_count": 45,
     "metadata": {},
     "output_type": "execute_result"
    }
   ],
   "source": [
    "df.shape"
   ],
   "metadata": {
    "colab": {
     "base_uri": "https://localhost:8080/"
    },
    "id": "137457659a9abe16",
    "outputId": "23ef55fd-5ff6-4aae-f510-b8da8d2e6359",
    "ExecuteTime": {
     "end_time": "2023-10-15T03:17:00.467312100Z",
     "start_time": "2023-10-15T03:16:59.716854300Z"
    }
   },
   "id": "137457659a9abe16"
  },
  {
   "cell_type": "markdown",
   "source": [
    "## ¿Existen valores nulos explicitos en el conjunto de datos?"
   ],
   "metadata": {
    "collapsed": false,
    "id": "c4ad6624bac90c9b"
   },
   "id": "c4ad6624bac90c9b"
  },
  {
   "cell_type": "code",
   "execution_count": 46,
   "outputs": [
    {
     "data": {
      "text/plain": "year            False\ntitle           False\npublished_at    False\nupdated_at      False\ncategory        False\nnominee          True\nartist           True\nworkers          True\nimg              True\nwinner          False\ndtype: bool"
     },
     "execution_count": 46,
     "metadata": {},
     "output_type": "execute_result"
    }
   ],
   "source": [
    "(   df\n",
    "    .isnull()\n",
    "    .any()\n",
    ")"
   ],
   "metadata": {
    "colab": {
     "base_uri": "https://localhost:8080/"
    },
    "id": "fb5a38a1862c9590",
    "outputId": "2173bd22-6b9a-42f2-d693-421babd2c476",
    "ExecuteTime": {
     "end_time": "2023-10-15T03:17:00.467312100Z",
     "start_time": "2023-10-15T03:16:59.732493300Z"
    }
   },
   "id": "fb5a38a1862c9590"
  },
  {
   "cell_type": "markdown",
   "source": [
    "### De tener observaciones con valores nulos, ¿cuántas tenemos por cada variable?"
   ],
   "metadata": {
    "collapsed": false,
    "id": "c5345b9fa091e731"
   },
   "id": "c5345b9fa091e731"
  },
  {
   "cell_type": "code",
   "execution_count": 47,
   "outputs": [
    {
     "data": {
      "text/plain": "workers         2190\nartist          1840\nimg             1367\nnominee            6\nyear               0\ntitle              0\npublished_at       0\nupdated_at         0\ncategory           0\nwinner             0\ndtype: int64"
     },
     "execution_count": 47,
     "metadata": {},
     "output_type": "execute_result"
    }
   ],
   "source": [
    "(\n",
    "    df\n",
    "    .isnull()\n",
    "    .sum()\n",
    "    .sort_values(ascending=False)\n",
    ")\n"
   ],
   "metadata": {
    "colab": {
     "base_uri": "https://localhost:8080/"
    },
    "id": "25dfd319d3dc2695",
    "outputId": "483a9005-d122-41df-f0e8-959c21c7c756",
    "ExecuteTime": {
     "end_time": "2023-10-15T03:17:00.482938Z",
     "start_time": "2023-10-15T03:16:59.748116600Z"
    }
   },
   "id": "25dfd319d3dc2695"
  },
  {
   "cell_type": "markdown",
   "source": [
    "### ¿Cuál es la proporción de valores nulos por cada variable?"
   ],
   "metadata": {
    "collapsed": false,
    "id": "577c64ec71b377c3"
   },
   "id": "577c64ec71b377c3"
  },
  {
   "cell_type": "code",
   "execution_count": 48,
   "outputs": [
    {
     "name": "stderr",
     "output_type": "stream",
     "text": [
      "C:\\Users\\Guatavo\\anaconda3\\envs\\fundamentos-etl\\lib\\site-packages\\seaborn\\axisgrid.py:118: UserWarning: The figure layout has changed to tight\n",
      "  self._figure.tight_layout(*args, **kwargs)\n"
     ]
    },
    {
     "data": {
      "text/plain": "<seaborn.axisgrid.FacetGrid at 0x2570ac7ea30>"
     },
     "execution_count": 48,
     "metadata": {},
     "output_type": "execute_result"
    },
    {
     "data": {
      "text/plain": "<Figure size 1083.88x500 with 1 Axes>",
      "image/png": "[encoded data removed]"
     },
     "metadata": {},
     "output_type": "display_data"
    }
   ],
   "source": [
    "(\n",
    "    df\n",
    "    .isnull()\n",
    "    .melt(value_name='missing')\n",
    "    .pipe(\n",
    "        lambda df: (\n",
    "            sns.displot(\n",
    "                data=df,\n",
    "                y='variable',\n",
    "                hue='missing',\n",
    "                multiple='fill',\n",
    "                aspect=2\n",
    "            )\n",
    "        )\n",
    "    )\n",
    ")"
   ],
   "metadata": {
    "colab": {
     "base_uri": "https://localhost:8080/",
     "height": 523
    },
    "id": "77700898b602086b",
    "outputId": "d16f6939-ec5a-4a2e-aebc-3cb02ad5e1da",
    "ExecuteTime": {
     "end_time": "2023-10-15T03:17:00.865278100Z",
     "start_time": "2023-10-15T03:16:59.794991300Z"
    }
   },
   "id": "77700898b602086b"
  },
  {
   "cell_type": "markdown",
   "source": [
    "### ¿Cuántos valores nulos tenemos en total en el conjunto de datos?"
   ],
   "metadata": {
    "collapsed": false,
    "id": "4071313285ced223"
   },
   "id": "4071313285ced223"
  },
  {
   "cell_type": "code",
   "execution_count": 49,
   "outputs": [
    {
     "data": {
      "text/plain": "5403"
     },
     "execution_count": 49,
     "metadata": {},
     "output_type": "execute_result"
    }
   ],
   "source": [
    "(\n",
    "    df\n",
    "    .isnull()\n",
    "    .sum()\n",
    "    .sum()\n",
    ")"
   ],
   "metadata": {
    "colab": {
     "base_uri": "https://localhost:8080/"
    },
    "id": "98f86c5c6709a1c7",
    "outputId": "4cceb242-8b90-435c-e6a8-cc545a5fbe52",
    "ExecuteTime": {
     "end_time": "2023-10-15T03:17:00.865278100Z",
     "start_time": "2023-10-15T03:17:00.545440600Z"
    }
   },
   "id": "98f86c5c6709a1c7"
  },
  {
   "cell_type": "markdown",
   "source": [
    "## ¿Cómo podemos visualizar los valores nulos en todo el conjunto de datos?"
   ],
   "metadata": {
    "collapsed": false,
    "id": "e6cac7c4b4813477"
   },
   "id": "e6cac7c4b4813477"
  },
  {
   "cell_type": "markdown",
   "source": [
    "#### Este grrafico nos permite ver los valores nulos que hay en las columnas de cada registro, por medio de una raya vertical, que indica ese valor en ese registro tiene un valor nulo , por la columnas que pasa la raya."
   ],
   "metadata": {
    "collapsed": false
   },
   "id": "24fac2493c920b2a"
  },
  {
   "cell_type": "code",
   "execution_count": 50,
   "outputs": [
    {
     "data": {
      "text/plain": "<Axes: >"
     },
     "execution_count": 50,
     "metadata": {},
     "output_type": "execute_result"
    },
    {
     "data": {
      "text/plain": "<Figure size 640x480 with 2 Axes>",
      "image/png": "[encoded data removed]"
     },
     "metadata": {},
     "output_type": "display_data"
    }
   ],
   "source": [
    "(\n",
    "    df\n",
    "    .isnull()\n",
    "    .transpose()\n",
    "    .pipe(\n",
    "        lambda df: sns.heatmap(data=df)\n",
    "    )\n",
    ")"
   ],
   "metadata": {
    "colab": {
     "base_uri": "https://localhost:8080/",
     "height": 474
    },
    "id": "35fa41610d788c2c",
    "outputId": "f3d8443c-b1f1-4415-bcb4-dbf4fa424db7",
    "ExecuteTime": {
     "end_time": "2023-10-15T03:17:03.398506300Z",
     "start_time": "2023-10-15T03:17:00.576719900Z"
    }
   },
   "id": "35fa41610d788c2c"
  },
  {
   "cell_type": "markdown",
   "source": [
    "\n",
    "Podemos observar, que la mayoria de los rregistros que tienen valores nulos, se Concentran en la columna artists workers,img, en mayor medida en la columna workers y lo podemos ver porque hay mayor cantidad de rayas  en el grafico.  "
   ],
   "metadata": {
    "collapsed": false
   },
   "id": "e29779e304fd039e"
  },
  {
   "cell_type": "markdown",
   "source": [
    "## ¿Cuántas observaciones perdemos si eliminamos los datos faltantes?"
   ],
   "metadata": {
    "collapsed": false,
    "id": "fc2a066be1b8f797"
   },
   "id": "fc2a066be1b8f797"
  },
  {
   "cell_type": "code",
   "execution_count": 51,
   "outputs": [
    {
     "data": {
      "text/plain": "      year                              title               published_at  \\\n0     2019  62nd Annual GRAMMY Awards  (2019)  2020-05-19T05:10:28-07:00   \n1     2019  62nd Annual GRAMMY Awards  (2019)  2020-05-19T05:10:28-07:00   \n2     2019  62nd Annual GRAMMY Awards  (2019)  2020-05-19T05:10:28-07:00   \n3     2019  62nd Annual GRAMMY Awards  (2019)  2020-05-19T05:10:28-07:00   \n4     2019  62nd Annual GRAMMY Awards  (2019)  2020-05-19T05:10:28-07:00   \n...    ...                                ...                        ...   \n4449  1966   9th Annual GRAMMY Awards  (1966)  2017-11-28T00:03:45-08:00   \n4450  1966   9th Annual GRAMMY Awards  (1966)  2017-11-28T00:03:45-08:00   \n4492  1965   8th Annual GRAMMY Awards  (1965)  2017-11-28T00:03:45-08:00   \n4493  1965   8th Annual GRAMMY Awards  (1965)  2017-11-28T00:03:45-08:00   \n4629  1962   5th Annual GRAMMY Awards  (1962)  2017-11-28T00:03:45-08:00   \n\n                     updated_at                                  category  \\\n0     2020-05-19T05:10:28-07:00                        Record Of The Year   \n1     2020-05-19T05:10:28-07:00                        Record Of The Year   \n2     2020-05-19T05:10:28-07:00                        Record Of The Year   \n3     2020-05-19T05:10:28-07:00                        Record Of The Year   \n4     2020-05-19T05:10:28-07:00                        Record Of The Year   \n...                         ...                                       ...   \n4449  2019-09-10T01:07:37-07:00                        Record Of The Year   \n4450  2019-09-10T01:07:37-07:00                         Album Of The Year   \n4492  2019-09-10T01:06:59-07:00                        Record Of The Year   \n4493  2019-09-10T01:06:59-07:00                         Album Of The Year   \n4629  2019-09-10T01:09:02-07:00  Album Of The Year (Other Than Classical)   \n\n                     nominee                             artist  \\\n0                    Bad Guy                      Billie Eilish   \n1                    Hey, Ma                           Bon Iver   \n2                    7 rings                      Ariana Grande   \n3                 Hard Place                             H.E.R.   \n4                       Talk                             Khalid   \n...                      ...                                ...   \n4449  Strangers In The Night                      Frank Sinatra   \n4450     A Man And His Music                      Frank Sinatra   \n4492        A Taste Of Honey  Herb Alpert And The Tijuana Brass   \n4493   September Of My Years                      Frank Sinatra   \n4629        The First Family                      Vaughn Meader   \n\n                                                workers  \\\n0     Finneas O'Connell, producer; Rob Kinelski & Fi...   \n1     BJ Burton, Brad Cook, Chris Messina & Justin V...   \n2     Charles Anderson, Tommy Brown, Michael Foster ...   \n3     Rodney “Darkchild” Jerkins, producer; Joseph H...   \n4     Disclosure & Denis Kosiak, producers; Ingmar C...   \n...                                                 ...   \n4449                              Jimmy Bowen, producer   \n4450                              Sonny Burke, producer   \n4492                Herb Alpert & Jerry Moss, producers   \n4493                              Sonny Burke, producer   \n4629                 Bob Booker & Earle Doud, producers   \n\n                                                    img  winner  \n0     https://www.grammy.com/sites/com/files/styles/...    True  \n1     https://www.grammy.com/sites/com/files/styles/...    True  \n2     https://www.grammy.com/sites/com/files/styles/...    True  \n3     https://www.grammy.com/sites/com/files/styles/...    True  \n4     https://www.grammy.com/sites/com/files/styles/...    True  \n...                                                 ...     ...  \n4449  https://www.grammy.com/sites/com/files/styles/...    True  \n4450  https://www.grammy.com/sites/com/files/styles/...    True  \n4492  https://www.grammy.com/sites/com/files/styles/...    True  \n4493  https://www.grammy.com/sites/com/files/styles/...    True  \n4629  https://www.grammy.com/sites/com/files/styles/...    True  \n\n[834 rows x 10 columns]",
      "text/html": "<div>\n<style scoped>\n    .dataframe tbody tr th:only-of-type {\n        vertical-align: middle;\n    }\n\n    .dataframe tbody tr th {\n        vertical-align: top;\n    }\n\n    .dataframe thead th {\n        text-align: right;\n    }\n</style>\n<table border=\"1\" class=\"dataframe\">\n  <thead>\n    <tr style=\"text-align: right;\">\n      <th></th>\n      <th>year</th>\n      <th>title</th>\n      <th>published_at</th>\n      <th>updated_at</th>\n      <th>category</th>\n      <th>nominee</th>\n      <th>artist</th>\n      <th>workers</th>\n      <th>img</th>\n      <th>winner</th>\n    </tr>\n  </thead>\n  <tbody>\n    <tr>\n      <th>0</th>\n      <td>2019</td>\n      <td>62nd Annual GRAMMY Awards  (2019)</td>\n      <td>2020-05-19T05:10:28-07:00</td>\n      <td>2020-05-19T05:10:28-07:00</td>\n      <td>Record Of The Year</td>\n      <td>Bad Guy</td>\n      <td>Billie Eilish</td>\n      <td>Finneas O'Connell, producer; Rob Kinelski &amp; Fi...</td>\n      <td>https://www.grammy.com/sites/com/files/styles/...</td>\n      <td>True</td>\n    </tr>\n    <tr>\n      <th>1</th>\n      <td>2019</td>\n      <td>62nd Annual GRAMMY Awards  (2019)</td>\n      <td>2020-05-19T05:10:28-07:00</td>\n      <td>2020-05-19T05:10:28-07:00</td>\n      <td>Record Of The Year</td>\n      <td>Hey, Ma</td>\n      <td>Bon Iver</td>\n      <td>BJ Burton, Brad Cook, Chris Messina &amp; Justin V...</td>\n      <td>https://www.grammy.com/sites/com/files/styles/...</td>\n      <td>True</td>\n    </tr>\n    <tr>\n      <th>2</th>\n      <td>2019</td>\n      <td>62nd Annual GRAMMY Awards  (2019)</td>\n      <td>2020-05-19T05:10:28-07:00</td>\n      <td>2020-05-19T05:10:28-07:00</td>\n      <td>Record Of The Year</td>\n      <td>7 rings</td>\n      <td>Ariana Grande</td>\n      <td>Charles Anderson, Tommy Brown, Michael Foster ...</td>\n      <td>https://www.grammy.com/sites/com/files/styles/...</td>\n      <td>True</td>\n    </tr>\n    <tr>\n      <th>3</th>\n      <td>2019</td>\n      <td>62nd Annual GRAMMY Awards  (2019)</td>\n      <td>2020-05-19T05:10:28-07:00</td>\n      <td>2020-05-19T05:10:28-07:00</td>\n      <td>Record Of The Year</td>\n      <td>Hard Place</td>\n      <td>H.E.R.</td>\n      <td>Rodney “Darkchild” Jerkins, producer; Joseph H...</td>\n      <td>https://www.grammy.com/sites/com/files/styles/...</td>\n      <td>True</td>\n    </tr>\n    <tr>\n      <th>4</th>\n      <td>2019</td>\n      <td>62nd Annual GRAMMY Awards  (2019)</td>\n      <td>2020-05-19T05:10:28-07:00</td>\n      <td>2020-05-19T05:10:28-07:00</td>\n      <td>Record Of The Year</td>\n      <td>Talk</td>\n      <td>Khalid</td>\n      <td>Disclosure &amp; Denis Kosiak, producers; Ingmar C...</td>\n      <td>https://www.grammy.com/sites/com/files/styles/...</td>\n      <td>True</td>\n    </tr>\n    <tr>\n      <th>...</th>\n      <td>...</td>\n      <td>...</td>\n      <td>...</td>\n      <td>...</td>\n      <td>...</td>\n      <td>...</td>\n      <td>...</td>\n      <td>...</td>\n      <td>...</td>\n      <td>...</td>\n    </tr>\n    <tr>\n      <th>4449</th>\n      <td>1966</td>\n      <td>9th Annual GRAMMY Awards  (1966)</td>\n      <td>2017-11-28T00:03:45-08:00</td>\n      <td>2019-09-10T01:07:37-07:00</td>\n      <td>Record Of The Year</td>\n      <td>Strangers In The Night</td>\n      <td>Frank Sinatra</td>\n      <td>Jimmy Bowen, producer</td>\n      <td>https://www.grammy.com/sites/com/files/styles/...</td>\n      <td>True</td>\n    </tr>\n    <tr>\n      <th>4450</th>\n      <td>1966</td>\n      <td>9th Annual GRAMMY Awards  (1966)</td>\n      <td>2017-11-28T00:03:45-08:00</td>\n      <td>2019-09-10T01:07:37-07:00</td>\n      <td>Album Of The Year</td>\n      <td>A Man And His Music</td>\n      <td>Frank Sinatra</td>\n      <td>Sonny Burke, producer</td>\n      <td>https://www.grammy.com/sites/com/files/styles/...</td>\n      <td>True</td>\n    </tr>\n    <tr>\n      <th>4492</th>\n      <td>1965</td>\n      <td>8th Annual GRAMMY Awards  (1965)</td>\n      <td>2017-11-28T00:03:45-08:00</td>\n      <td>2019-09-10T01:06:59-07:00</td>\n      <td>Record Of The Year</td>\n      <td>A Taste Of Honey</td>\n      <td>Herb Alpert And The Tijuana Brass</td>\n      <td>Herb Alpert &amp; Jerry Moss, producers</td>\n      <td>https://www.grammy.com/sites/com/files/styles/...</td>\n      <td>True</td>\n    </tr>\n    <tr>\n      <th>4493</th>\n      <td>1965</td>\n      <td>8th Annual GRAMMY Awards  (1965)</td>\n      <td>2017-11-28T00:03:45-08:00</td>\n      <td>2019-09-10T01:06:59-07:00</td>\n      <td>Album Of The Year</td>\n      <td>September Of My Years</td>\n      <td>Frank Sinatra</td>\n      <td>Sonny Burke, producer</td>\n      <td>https://www.grammy.com/sites/com/files/styles/...</td>\n      <td>True</td>\n    </tr>\n    <tr>\n      <th>4629</th>\n      <td>1962</td>\n      <td>5th Annual GRAMMY Awards  (1962)</td>\n      <td>2017-11-28T00:03:45-08:00</td>\n      <td>2019-09-10T01:09:02-07:00</td>\n      <td>Album Of The Year (Other Than Classical)</td>\n      <td>The First Family</td>\n      <td>Vaughn Meader</td>\n      <td>Bob Booker &amp; Earle Doud, producers</td>\n      <td>https://www.grammy.com/sites/com/files/styles/...</td>\n      <td>True</td>\n    </tr>\n  </tbody>\n</table>\n<p>834 rows × 10 columns</p>\n</div>"
     },
     "execution_count": 51,
     "metadata": {},
     "output_type": "execute_result"
    }
   ],
   "source": [
    "df_without_nulls = (\n",
    "    df\n",
    "    .dropna()\n",
    ")\n",
    "\n",
    "df_without_nulls"
   ],
   "metadata": {
    "colab": {
     "base_uri": "https://localhost:8080/",
     "height": 424
    },
    "id": "572cde7ee036e240",
    "outputId": "eed227a4-ac43-4399-c5fa-c6ee9b283f1a",
    "ExecuteTime": {
     "end_time": "2023-10-15T03:17:03.492221400Z",
     "start_time": "2023-10-15T03:17:03.398506300Z"
    }
   },
   "id": "572cde7ee036e240"
  },
  {
   "cell_type": "markdown",
   "source": [
    "### perdemos una cantidad significativa,entonces exploramos mas a fondo a ver que datos podemos rellenar"
   ],
   "metadata": {
    "collapsed": false
   },
   "id": "97d575a13869ca7b"
  },
  {
   "cell_type": "markdown",
   "source": [
    "### Cuantos Duplicados Tenemos?"
   ],
   "metadata": {
    "id": "HS4-1PJmpZwc"
   },
   "id": "HS4-1PJmpZwc"
  },
  {
   "cell_type": "code",
   "source": [
    "duplicados = df.duplicated()\n",
    "duplicados.sum()"
   ],
   "metadata": {
    "id": "VXwv4QZJpi5D",
    "ExecuteTime": {
     "end_time": "2023-10-15T03:17:03.492221400Z",
     "start_time": "2023-10-15T03:17:03.429722500Z"
    }
   },
   "id": "VXwv4QZJpi5D",
   "execution_count": 52,
   "outputs": [
    {
     "data": {
      "text/plain": "0"
     },
     "execution_count": 52,
     "metadata": {},
     "output_type": "execute_result"
    }
   ]
  },
  {
   "cell_type": "markdown",
   "source": [
    "# Conteos y proporciones"
   ],
   "metadata": {
    "collapsed": false,
    "id": "bf5e9ad744679304"
   },
   "id": "bf5e9ad744679304"
  },
  {
   "cell_type": "markdown",
   "source": [
    "## Preludio: ¿Qué estadísticos describen el conjunto de datos?"
   ],
   "metadata": {
    "collapsed": false,
    "id": "7eea189047834412"
   },
   "id": "7eea189047834412"
  },
  {
   "cell_type": "markdown",
   "source": [
    "### Todas las variables"
   ],
   "metadata": {
    "collapsed": false,
    "id": "3f433c87419f293e"
   },
   "id": "3f433c87419f293e"
  },
  {
   "cell_type": "code",
   "execution_count": 53,
   "outputs": [
    {
     "data": {
      "text/plain": "               year                              title  \\\ncount   4810.000000                               4810   \nunique          NaN                                 62   \ntop             NaN  62nd Annual GRAMMY Awards  (2019)   \nfreq            NaN                                433   \nmean    1995.566944                                NaN   \nstd       17.149720                                NaN   \nmin     1958.000000                                NaN   \n25%     1983.000000                                NaN   \n50%     1998.000000                                NaN   \n75%     2010.000000                                NaN   \nmax     2019.000000                                NaN   \n\n                     published_at                 updated_at  \\\ncount                        4810                       4810   \nunique                          4                         10   \ntop     2017-11-28T00:03:45-08:00  2019-09-10T01:08:19-07:00   \nfreq                         4205                        778   \nmean                          NaN                        NaN   \nstd                           NaN                        NaN   \nmin                           NaN                        NaN   \n25%                           NaN                        NaN   \n50%                           NaN                        NaN   \n75%                           NaN                        NaN   \nmax                           NaN                        NaN   \n\n                category                     nominee             artist  \\\ncount               4810                        4804               2970   \nunique               638                        4131               1658   \ntop     Song Of The Year  Bridge Over Troubled Water  (Various Artists)   \nfreq                  70                           7                 66   \nmean                 NaN                         NaN                NaN   \nstd                  NaN                         NaN                NaN   \nmin                  NaN                         NaN                NaN   \n25%                  NaN                         NaN                NaN   \n50%                  NaN                         NaN                NaN   \n75%                  NaN                         NaN                NaN   \nmax                  NaN                         NaN                NaN   \n\n                                        workers  \\\ncount                                      2620   \nunique                                     2366   \ntop     John Williams, composer (John Williams)   \nfreq                                         20   \nmean                                        NaN   \nstd                                         NaN   \nmin                                         NaN   \n25%                                         NaN   \n50%                                         NaN   \n75%                                         NaN   \nmax                                         NaN   \n\n                                                      img winner  \ncount                                                3443   4810  \nunique                                               1463      1  \ntop     https://www.grammy.com/sites/com/files/styles/...   True  \nfreq                                                   26   4810  \nmean                                                  NaN    NaN  \nstd                                                   NaN    NaN  \nmin                                                   NaN    NaN  \n25%                                                   NaN    NaN  \n50%                                                   NaN    NaN  \n75%                                                   NaN    NaN  \nmax                                                   NaN    NaN  ",
      "text/html": "<div>\n<style scoped>\n    .dataframe tbody tr th:only-of-type {\n        vertical-align: middle;\n    }\n\n    .dataframe tbody tr th {\n        vertical-align: top;\n    }\n\n    .dataframe thead th {\n        text-align: right;\n    }\n</style>\n<table border=\"1\" class=\"dataframe\">\n  <thead>\n    <tr style=\"text-align: right;\">\n      <th></th>\n      <th>year</th>\n      <th>title</th>\n      <th>published_at</th>\n      <th>updated_at</th>\n      <th>category</th>\n      <th>nominee</th>\n      <th>artist</th>\n      <th>workers</th>\n      <th>img</th>\n      <th>winner</th>\n    </tr>\n  </thead>\n  <tbody>\n    <tr>\n      <th>count</th>\n      <td>4810.000000</td>\n      <td>4810</td>\n      <td>4810</td>\n      <td>4810</td>\n      <td>4810</td>\n      <td>4804</td>\n      <td>2970</td>\n      <td>2620</td>\n      <td>3443</td>\n      <td>4810</td>\n    </tr>\n    <tr>\n      <th>unique</th>\n      <td>NaN</td>\n      <td>62</td>\n      <td>4</td>\n      <td>10</td>\n      <td>638</td>\n      <td>4131</td>\n      <td>1658</td>\n      <td>2366</td>\n      <td>1463</td>\n      <td>1</td>\n    </tr>\n    <tr>\n      <th>top</th>\n      <td>NaN</td>\n      <td>62nd Annual GRAMMY Awards  (2019)</td>\n      <td>2017-11-28T00:03:45-08:00</td>\n      <td>2019-09-10T01:08:19-07:00</td>\n      <td>Song Of The Year</td>\n      <td>Bridge Over Troubled Water</td>\n      <td>(Various Artists)</td>\n      <td>John Williams, composer (John Williams)</td>\n      <td>https://www.grammy.com/sites/com/files/styles/...</td>\n      <td>True</td>\n    </tr>\n    <tr>\n      <th>freq</th>\n      <td>NaN</td>\n      <td>433</td>\n      <td>4205</td>\n      <td>778</td>\n      <td>70</td>\n      <td>7</td>\n      <td>66</td>\n      <td>20</td>\n      <td>26</td>\n      <td>4810</td>\n    </tr>\n    <tr>\n      <th>mean</th>\n      <td>1995.566944</td>\n      <td>NaN</td>\n      <td>NaN</td>\n      <td>NaN</td>\n      <td>NaN</td>\n      <td>NaN</td>\n      <td>NaN</td>\n      <td>NaN</td>\n      <td>NaN</td>\n      <td>NaN</td>\n    </tr>\n    <tr>\n      <th>std</th>\n      <td>17.149720</td>\n      <td>NaN</td>\n      <td>NaN</td>\n      <td>NaN</td>\n      <td>NaN</td>\n      <td>NaN</td>\n      <td>NaN</td>\n      <td>NaN</td>\n      <td>NaN</td>\n      <td>NaN</td>\n    </tr>\n    <tr>\n      <th>min</th>\n      <td>1958.000000</td>\n      <td>NaN</td>\n      <td>NaN</td>\n      <td>NaN</td>\n      <td>NaN</td>\n      <td>NaN</td>\n      <td>NaN</td>\n      <td>NaN</td>\n      <td>NaN</td>\n      <td>NaN</td>\n    </tr>\n    <tr>\n      <th>25%</th>\n      <td>1983.000000</td>\n      <td>NaN</td>\n      <td>NaN</td>\n      <td>NaN</td>\n      <td>NaN</td>\n      <td>NaN</td>\n      <td>NaN</td>\n      <td>NaN</td>\n      <td>NaN</td>\n      <td>NaN</td>\n    </tr>\n    <tr>\n      <th>50%</th>\n      <td>1998.000000</td>\n      <td>NaN</td>\n      <td>NaN</td>\n      <td>NaN</td>\n      <td>NaN</td>\n      <td>NaN</td>\n      <td>NaN</td>\n      <td>NaN</td>\n      <td>NaN</td>\n      <td>NaN</td>\n    </tr>\n    <tr>\n      <th>75%</th>\n      <td>2010.000000</td>\n      <td>NaN</td>\n      <td>NaN</td>\n      <td>NaN</td>\n      <td>NaN</td>\n      <td>NaN</td>\n      <td>NaN</td>\n      <td>NaN</td>\n      <td>NaN</td>\n      <td>NaN</td>\n    </tr>\n    <tr>\n      <th>max</th>\n      <td>2019.000000</td>\n      <td>NaN</td>\n      <td>NaN</td>\n      <td>NaN</td>\n      <td>NaN</td>\n      <td>NaN</td>\n      <td>NaN</td>\n      <td>NaN</td>\n      <td>NaN</td>\n      <td>NaN</td>\n    </tr>\n  </tbody>\n</table>\n</div>"
     },
     "execution_count": 53,
     "metadata": {},
     "output_type": "execute_result"
    }
   ],
   "source": [
    "df.describe(include='all')"
   ],
   "metadata": {
    "colab": {
     "base_uri": "https://localhost:8080/",
     "height": 394
    },
    "id": "5c624176cda9b218",
    "outputId": "51c5f35e-e99d-42bf-b8a1-2dcec2ba8a8e",
    "ExecuteTime": {
     "end_time": "2023-10-15T03:17:03.507845100Z",
     "start_time": "2023-10-15T03:17:03.460994200Z"
    }
   },
   "id": "5c624176cda9b218"
  },
  {
   "cell_type": "markdown",
   "source": [
    "### Solo las numéricas"
   ],
   "metadata": {
    "collapsed": false,
    "id": "20999d84779582fa"
   },
   "id": "20999d84779582fa"
  },
  {
   "cell_type": "code",
   "execution_count": 54,
   "outputs": [
    {
     "data": {
      "text/plain": "              year\ncount  4810.000000\nmean   1995.566944\nstd      17.149720\nmin    1958.000000\n25%    1983.000000\n50%    1998.000000\n75%    2010.000000\nmax    2019.000000",
      "text/html": "<div>\n<style scoped>\n    .dataframe tbody tr th:only-of-type {\n        vertical-align: middle;\n    }\n\n    .dataframe tbody tr th {\n        vertical-align: top;\n    }\n\n    .dataframe thead th {\n        text-align: right;\n    }\n</style>\n<table border=\"1\" class=\"dataframe\">\n  <thead>\n    <tr style=\"text-align: right;\">\n      <th></th>\n      <th>year</th>\n    </tr>\n  </thead>\n  <tbody>\n    <tr>\n      <th>count</th>\n      <td>4810.000000</td>\n    </tr>\n    <tr>\n      <th>mean</th>\n      <td>1995.566944</td>\n    </tr>\n    <tr>\n      <th>std</th>\n      <td>17.149720</td>\n    </tr>\n    <tr>\n      <th>min</th>\n      <td>1958.000000</td>\n    </tr>\n    <tr>\n      <th>25%</th>\n      <td>1983.000000</td>\n    </tr>\n    <tr>\n      <th>50%</th>\n      <td>1998.000000</td>\n    </tr>\n    <tr>\n      <th>75%</th>\n      <td>2010.000000</td>\n    </tr>\n    <tr>\n      <th>max</th>\n      <td>2019.000000</td>\n    </tr>\n  </tbody>\n</table>\n</div>"
     },
     "execution_count": 54,
     "metadata": {},
     "output_type": "execute_result"
    }
   ],
   "source": [
    "df.describe(include=[np.number])"
   ],
   "metadata": {
    "colab": {
     "base_uri": "https://localhost:8080/",
     "height": 300
    },
    "id": "5f4e440d89b0c0dd",
    "outputId": "7584f85d-2126-4079-8926-398ef1bd7b2c",
    "ExecuteTime": {
     "end_time": "2023-10-15T03:17:03.601596400Z",
     "start_time": "2023-10-15T03:17:03.507845100Z"
    }
   },
   "id": "5f4e440d89b0c0dd"
  },
  {
   "cell_type": "markdown",
   "source": [
    "### Solo categóricas - 1"
   ],
   "metadata": {
    "collapsed": false,
    "id": "a4fbeca98af1237"
   },
   "id": "a4fbeca98af1237"
  },
  {
   "cell_type": "code",
   "execution_count": 55,
   "outputs": [
    {
     "data": {
      "text/plain": "                                    title               published_at  \\\ncount                                4810                       4810   \nunique                                 62                          4   \ntop     62nd Annual GRAMMY Awards  (2019)  2017-11-28T00:03:45-08:00   \nfreq                                  433                       4205   \n\n                       updated_at          category  \\\ncount                        4810              4810   \nunique                         10               638   \ntop     2019-09-10T01:08:19-07:00  Song Of The Year   \nfreq                          778                70   \n\n                           nominee             artist  \\\ncount                         4804               2970   \nunique                        4131               1658   \ntop     Bridge Over Troubled Water  (Various Artists)   \nfreq                             7                 66   \n\n                                        workers  \\\ncount                                      2620   \nunique                                     2366   \ntop     John Williams, composer (John Williams)   \nfreq                                         20   \n\n                                                      img  \ncount                                                3443  \nunique                                               1463  \ntop     https://www.grammy.com/sites/com/files/styles/...  \nfreq                                                   26  ",
      "text/html": "<div>\n<style scoped>\n    .dataframe tbody tr th:only-of-type {\n        vertical-align: middle;\n    }\n\n    .dataframe tbody tr th {\n        vertical-align: top;\n    }\n\n    .dataframe thead th {\n        text-align: right;\n    }\n</style>\n<table border=\"1\" class=\"dataframe\">\n  <thead>\n    <tr style=\"text-align: right;\">\n      <th></th>\n      <th>title</th>\n      <th>published_at</th>\n      <th>updated_at</th>\n      <th>category</th>\n      <th>nominee</th>\n      <th>artist</th>\n      <th>workers</th>\n      <th>img</th>\n    </tr>\n  </thead>\n  <tbody>\n    <tr>\n      <th>count</th>\n      <td>4810</td>\n      <td>4810</td>\n      <td>4810</td>\n      <td>4810</td>\n      <td>4804</td>\n      <td>2970</td>\n      <td>2620</td>\n      <td>3443</td>\n    </tr>\n    <tr>\n      <th>unique</th>\n      <td>62</td>\n      <td>4</td>\n      <td>10</td>\n      <td>638</td>\n      <td>4131</td>\n      <td>1658</td>\n      <td>2366</td>\n      <td>1463</td>\n    </tr>\n    <tr>\n      <th>top</th>\n      <td>62nd Annual GRAMMY Awards  (2019)</td>\n      <td>2017-11-28T00:03:45-08:00</td>\n      <td>2019-09-10T01:08:19-07:00</td>\n      <td>Song Of The Year</td>\n      <td>Bridge Over Troubled Water</td>\n      <td>(Various Artists)</td>\n      <td>John Williams, composer (John Williams)</td>\n      <td>https://www.grammy.com/sites/com/files/styles/...</td>\n    </tr>\n    <tr>\n      <th>freq</th>\n      <td>433</td>\n      <td>4205</td>\n      <td>778</td>\n      <td>70</td>\n      <td>7</td>\n      <td>66</td>\n      <td>20</td>\n      <td>26</td>\n    </tr>\n  </tbody>\n</table>\n</div>"
     },
     "execution_count": 55,
     "metadata": {},
     "output_type": "execute_result"
    }
   ],
   "source": [
    "df.describe(include=object)"
   ],
   "metadata": {
    "id": "e9ddbe0881da1793",
    "outputId": "17fe0a08-649b-440d-a114-8bc94bc7ee71",
    "ExecuteTime": {
     "end_time": "2023-10-15T03:17:03.679722900Z",
     "start_time": "2023-10-15T03:17:03.523505400Z"
    }
   },
   "id": "e9ddbe0881da1793"
  },
  {
   "cell_type": "markdown",
   "source": [
    "### Solo Booleano"
   ],
   "metadata": {
    "collapsed": false,
    "id": "b8085a8e380c5e50"
   },
   "id": "b8085a8e380c5e50"
  },
  {
   "cell_type": "code",
   "execution_count": 56,
   "outputs": [
    {
     "data": {
      "text/plain": "       winner\ncount    4810\nunique      1\ntop      True\nfreq     4810",
      "text/html": "<div>\n<style scoped>\n    .dataframe tbody tr th:only-of-type {\n        vertical-align: middle;\n    }\n\n    .dataframe tbody tr th {\n        vertical-align: top;\n    }\n\n    .dataframe thead th {\n        text-align: right;\n    }\n</style>\n<table border=\"1\" class=\"dataframe\">\n  <thead>\n    <tr style=\"text-align: right;\">\n      <th></th>\n      <th>winner</th>\n    </tr>\n  </thead>\n  <tbody>\n    <tr>\n      <th>count</th>\n      <td>4810</td>\n    </tr>\n    <tr>\n      <th>unique</th>\n      <td>1</td>\n    </tr>\n    <tr>\n      <th>top</th>\n      <td>True</td>\n    </tr>\n    <tr>\n      <th>freq</th>\n      <td>4810</td>\n    </tr>\n  </tbody>\n</table>\n</div>"
     },
     "execution_count": 56,
     "metadata": {},
     "output_type": "execute_result"
    }
   ],
   "source": [
    "df.describe(include=bool)"
   ],
   "metadata": {
    "id": "c221ab4808336cb2",
    "outputId": "9cebcffe-d671-4bf8-a955-c7f63bf0e2f4",
    "ExecuteTime": {
     "end_time": "2023-10-15T03:17:03.757850300Z",
     "start_time": "2023-10-15T03:17:03.570346400Z"
    }
   },
   "id": "c221ab4808336cb2"
  },
  {
   "cell_type": "markdown",
   "source": [
    "### Las Categorias con mas nominaciones cada año"
   ],
   "metadata": {
    "collapsed": false,
    "id": "84bdca21ada822f0"
   },
   "id": "84bdca21ada822f0"
  },
  {
   "cell_type": "code",
   "execution_count": 57,
   "outputs": [
    {
     "data": {
      "text/plain": "<Figure size 800x400 with 1 Axes>",
      "image/png": "[encoded data removed]"
     },
     "metadata": {},
     "output_type": "display_data"
    }
   ],
   "source": [
    "# 1. Filtrar las 10 categorías con más nominaciones\n",
    "top_10_categories = df['category'].value_counts().nlargest(10)\n",
    "\n",
    "# 2. Crear el gráfico de barras\n",
    "plt.figure(figsize=(8, 4))\n",
    "top_10_categories.plot(kind='bar', color='skyblue')\n",
    "plt.xlabel('Categoría')\n",
    "plt.ylabel('Cantidad de Nominaciones')\n",
    "plt.title('Top 10 Categorías con Más Nominaciones en los Grammy')\n",
    "plt.xticks(rotation=45)\n",
    "plt.savefig('top_10_category.jpg', format='jpg')\n",
    "plt.show()"
   ],
   "metadata": {
    "collapsed": false,
    "ExecuteTime": {
     "end_time": "2023-10-15T03:17:04.070762400Z",
     "start_time": "2023-10-15T03:17:03.585975600Z"
    }
   },
   "id": "c243a3d4396ad901"
  },
  {
   "cell_type": "markdown",
   "source": [
    "## Top 10 artistas con mas nominaciones"
   ],
   "metadata": {
    "collapsed": false
   },
   "id": "c280634866e43a62"
  },
  {
   "cell_type": "code",
   "execution_count": 58,
   "outputs": [
    {
     "data": {
      "text/plain": "<Figure size 800x400 with 1 Axes>",
      "image/png": "[encoded data removed]"
     },
     "metadata": {},
     "output_type": "display_data"
    }
   ],
   "source": [
    "# 1. Filtrar los 10 artistas con más nominaciones\n",
    "top_10_artists = df['artist'].value_counts().nlargest(10)\n",
    "\n",
    "# 2. Crear el gráfico de barras con un tamaño más pequeño\n",
    "plt.figure(figsize=(8, 4))  # Ancho x Alto en pulgadas\n",
    "top_10_artists.plot(kind='bar', color='green')\n",
    "plt.xlabel('Artista')\n",
    "plt.ylabel('Cantidad de Nominaciones')\n",
    "plt.title('Top 10 Artistas con Más Nominaciones en los Grammy')\n",
    "plt.xticks(rotation=45)\n",
    "\n",
    "# 3. Guardar la gráfica en formato JPG\n",
    "plt.savefig('top_10_artists.jpg', format='jpg')\n",
    "\n",
    "# 4. Mostrar la gráfica en pantalla\n",
    "plt.show()"
   ],
   "metadata": {
    "collapsed": false,
    "ExecuteTime": {
     "end_time": "2023-10-15T03:17:04.631028400Z",
     "start_time": "2023-10-15T03:17:04.070762400Z"
    }
   },
   "id": "7c2bf362cd271d63"
  },
  {
   "cell_type": "markdown",
   "source": [
    "## Top 10 canciones mas nominadas"
   ],
   "metadata": {
    "collapsed": false
   },
   "id": "3886bce8f68bfab8"
  },
  {
   "cell_type": "code",
   "execution_count": 59,
   "outputs": [
    {
     "data": {
      "text/plain": "<Figure size 800x400 with 1 Axes>",
      "image/png": "[encoded data removed]"
     },
     "metadata": {},
     "output_type": "display_data"
    }
   ],
   "source": [
    "# 1. Filtrar los 10 artistas con más nominaciones\n",
    "top_10_artists = df['nominee'].value_counts().nlargest(10)\n",
    "\n",
    "# 2. Crear el gráfico de barras\n",
    "plt.figure(figsize=(8, 4))\n",
    "top_10_artists.plot(kind='bar', color='green')\n",
    "plt.xlabel('Artista')\n",
    "plt.ylabel('Cantidad de Nominaciones')\n",
    "plt.title('Top 10 canciones mas nominadas en los Grammy')\n",
    "plt.xticks(rotation=45)\n",
    "# 3. Guardar la gráfica en formato JPG\n",
    "plt.savefig('top_10_nominee.jpg', format='jpg')\n",
    "plt.show()"
   ],
   "metadata": {
    "collapsed": false,
    "ExecuteTime": {
     "end_time": "2023-10-15T03:17:05.128407900Z",
     "start_time": "2023-10-15T03:17:04.631028400Z"
    }
   },
   "id": "691e3951e92df739"
  },
  {
   "cell_type": "code",
   "execution_count": 25,
   "outputs": [],
   "source": [],
   "metadata": {
    "collapsed": false,
    "ExecuteTime": {
     "end_time": "2023-10-15T03:13:57.609458600Z",
     "start_time": "2023-10-15T03:13:57.453208400Z"
    }
   },
   "id": "70db314e0e1a6314"
  },
  {
   "cell_type": "markdown",
   "source": [
    "### Eliminamos la columnas innecesarias"
   ],
   "metadata": {
    "collapsed": false
   },
   "id": "e73f432cf6e4d0e8"
  },
  {
   "cell_type": "markdown",
   "source": [
    "### se eliminan img,workers,updated_at,published_at porque no nos aportan informacion relevante para nuestro analisis.  titlle se eliminan porque se puede inferir de que año son los premios de los grammys con la columna year"
   ],
   "metadata": {
    "collapsed": false,
    "ExecuteTime": {
     "end_time": "2023-10-15T03:17:05.300281Z",
     "start_time": "2023-10-15T03:17:05.144031500Z"
    }
   },
   "id": "bc8da3990cf1fd9d"
  },
  {
   "cell_type": "code",
   "execution_count": 26,
   "outputs": [
    {
     "data": {
      "text/plain": "      year                                           category  \\\n0     2019                                 Record Of The Year   \n1     2019                                 Record Of The Year   \n2     2019                                 Record Of The Year   \n3     2019                                 Record Of The Year   \n4     2019                                 Record Of The Year   \n...    ...                                                ...   \n4805  1958  Best Classical Performance - Instrumentalist (...   \n4806  1958  Best Classical Performance - Instrumentalist (...   \n4807  1958  Best Classical Performance - Chamber Music (In...   \n4808  1958  Best Classical Performance - Vocal Soloist (Wi...   \n4809  1958    Best Classical Performance - Operatic Or Choral   \n\n                                                nominee         artist  winner  \n0                                               Bad Guy  Billie Eilish    True  \n1                                               Hey, Ma       Bon Iver    True  \n2                                               7 rings  Ariana Grande    True  \n3                                            Hard Place         H.E.R.    True  \n4                                                  Talk         Khalid    True  \n...                                                 ...            ...     ...  \n4805  Tchaikovsky: Piano Concerto No. 1 In B Flat Mi...            NaN    True  \n4806                             Segovia Golden Jubilee            NaN    True  \n4807                             Beethoven: Quartet 130            NaN    True  \n4808                                   Operatic Recital            NaN    True  \n4809                                           Virtuoso            NaN    True  \n\n[4810 rows x 5 columns]",
      "text/html": "<div>\n<style scoped>\n    .dataframe tbody tr th:only-of-type {\n        vertical-align: middle;\n    }\n\n    .dataframe tbody tr th {\n        vertical-align: top;\n    }\n\n    .dataframe thead th {\n        text-align: right;\n    }\n</style>\n<table border=\"1\" class=\"dataframe\">\n  <thead>\n    <tr style=\"text-align: right;\">\n      <th></th>\n      <th>year</th>\n      <th>category</th>\n      <th>nominee</th>\n      <th>artist</th>\n      <th>winner</th>\n    </tr>\n  </thead>\n  <tbody>\n    <tr>\n      <th>0</th>\n      <td>2019</td>\n      <td>Record Of The Year</td>\n      <td>Bad Guy</td>\n      <td>Billie Eilish</td>\n      <td>True</td>\n    </tr>\n    <tr>\n      <th>1</th>\n      <td>2019</td>\n      <td>Record Of The Year</td>\n      <td>Hey, Ma</td>\n      <td>Bon Iver</td>\n      <td>True</td>\n    </tr>\n    <tr>\n      <th>2</th>\n      <td>2019</td>\n      <td>Record Of The Year</td>\n      <td>7 rings</td>\n      <td>Ariana Grande</td>\n      <td>True</td>\n    </tr>\n    <tr>\n      <th>3</th>\n      <td>2019</td>\n      <td>Record Of The Year</td>\n      <td>Hard Place</td>\n      <td>H.E.R.</td>\n      <td>True</td>\n    </tr>\n    <tr>\n      <th>4</th>\n      <td>2019</td>\n      <td>Record Of The Year</td>\n      <td>Talk</td>\n      <td>Khalid</td>\n      <td>True</td>\n    </tr>\n    <tr>\n      <th>...</th>\n      <td>...</td>\n      <td>...</td>\n      <td>...</td>\n      <td>...</td>\n      <td>...</td>\n    </tr>\n    <tr>\n      <th>4805</th>\n      <td>1958</td>\n      <td>Best Classical Performance - Instrumentalist (...</td>\n      <td>Tchaikovsky: Piano Concerto No. 1 In B Flat Mi...</td>\n      <td>NaN</td>\n      <td>True</td>\n    </tr>\n    <tr>\n      <th>4806</th>\n      <td>1958</td>\n      <td>Best Classical Performance - Instrumentalist (...</td>\n      <td>Segovia Golden Jubilee</td>\n      <td>NaN</td>\n      <td>True</td>\n    </tr>\n    <tr>\n      <th>4807</th>\n      <td>1958</td>\n      <td>Best Classical Performance - Chamber Music (In...</td>\n      <td>Beethoven: Quartet 130</td>\n      <td>NaN</td>\n      <td>True</td>\n    </tr>\n    <tr>\n      <th>4808</th>\n      <td>1958</td>\n      <td>Best Classical Performance - Vocal Soloist (Wi...</td>\n      <td>Operatic Recital</td>\n      <td>NaN</td>\n      <td>True</td>\n    </tr>\n    <tr>\n      <th>4809</th>\n      <td>1958</td>\n      <td>Best Classical Performance - Operatic Or Choral</td>\n      <td>Virtuoso</td>\n      <td>NaN</td>\n      <td>True</td>\n    </tr>\n  </tbody>\n</table>\n<p>4810 rows × 5 columns</p>\n</div>"
     },
     "execution_count": 26,
     "metadata": {},
     "output_type": "execute_result"
    }
   ],
   "source": [
    "df.drop(['img', 'title', 'published_at', 'updated_at', 'workers'], axis=1, inplace=True)\n",
    "df"
   ],
   "metadata": {
    "collapsed": false,
    "ExecuteTime": {
     "end_time": "2023-10-15T03:13:57.609458600Z",
     "start_time": "2023-10-15T03:13:57.484457900Z"
    }
   },
   "id": "80ce3b2ba08e6b67"
  },
  {
   "cell_type": "markdown",
   "source": [
    "\n",
    "## Normalizamos las Columnas a Mayusculas , excepto  winner y las numericas, para no tener problemas de Formato de las columnas\n"
   ],
   "metadata": {
    "collapsed": false,
    "id": "bf706f604f377c15",
    "ExecuteTime": {
     "end_time": "2023-10-15T03:17:05.300281Z",
     "start_time": "2023-10-15T03:17:05.159670700Z"
    }
   },
   "id": "bf706f604f377c15"
  },
  {
   "cell_type": "code",
   "execution_count": 27,
   "outputs": [
    {
     "data": {
      "text/plain": "      year                                           category  \\\n0     2019                                 RECORD OF THE YEAR   \n1     2019                                 RECORD OF THE YEAR   \n2     2019                                 RECORD OF THE YEAR   \n3     2019                                 RECORD OF THE YEAR   \n4     2019                                 RECORD OF THE YEAR   \n...    ...                                                ...   \n4805  1958  BEST CLASSICAL PERFORMANCE - INSTRUMENTALIST (...   \n4806  1958  BEST CLASSICAL PERFORMANCE - INSTRUMENTALIST (...   \n4807  1958  BEST CLASSICAL PERFORMANCE - CHAMBER MUSIC (IN...   \n4808  1958  BEST CLASSICAL PERFORMANCE - VOCAL SOLOIST (WI...   \n4809  1958    BEST CLASSICAL PERFORMANCE - OPERATIC OR CHORAL   \n\n                                                nominee         artist  winner  \n0                                               BAD GUY  BILLIE EILISH    True  \n1                                               HEY, MA       BON IVER    True  \n2                                               7 RINGS  ARIANA GRANDE    True  \n3                                            HARD PLACE         H.E.R.    True  \n4                                                  TALK         KHALID    True  \n...                                                 ...            ...     ...  \n4805  TCHAIKOVSKY: PIANO CONCERTO NO. 1 IN B FLAT MI...            NaN    True  \n4806                             SEGOVIA GOLDEN JUBILEE            NaN    True  \n4807                             BEETHOVEN: QUARTET 130            NaN    True  \n4808                                   OPERATIC RECITAL            NaN    True  \n4809                                           VIRTUOSO            NaN    True  \n\n[4810 rows x 5 columns]",
      "text/html": "<div>\n<style scoped>\n    .dataframe tbody tr th:only-of-type {\n        vertical-align: middle;\n    }\n\n    .dataframe tbody tr th {\n        vertical-align: top;\n    }\n\n    .dataframe thead th {\n        text-align: right;\n    }\n</style>\n<table border=\"1\" class=\"dataframe\">\n  <thead>\n    <tr style=\"text-align: right;\">\n      <th></th>\n      <th>year</th>\n      <th>category</th>\n      <th>nominee</th>\n      <th>artist</th>\n      <th>winner</th>\n    </tr>\n  </thead>\n  <tbody>\n    <tr>\n      <th>0</th>\n      <td>2019</td>\n      <td>RECORD OF THE YEAR</td>\n      <td>BAD GUY</td>\n      <td>BILLIE EILISH</td>\n      <td>True</td>\n    </tr>\n    <tr>\n      <th>1</th>\n      <td>2019</td>\n      <td>RECORD OF THE YEAR</td>\n      <td>HEY, MA</td>\n      <td>BON IVER</td>\n      <td>True</td>\n    </tr>\n    <tr>\n      <th>2</th>\n      <td>2019</td>\n      <td>RECORD OF THE YEAR</td>\n      <td>7 RINGS</td>\n      <td>ARIANA GRANDE</td>\n      <td>True</td>\n    </tr>\n    <tr>\n      <th>3</th>\n      <td>2019</td>\n      <td>RECORD OF THE YEAR</td>\n      <td>HARD PLACE</td>\n      <td>H.E.R.</td>\n      <td>True</td>\n    </tr>\n    <tr>\n      <th>4</th>\n      <td>2019</td>\n      <td>RECORD OF THE YEAR</td>\n      <td>TALK</td>\n      <td>KHALID</td>\n      <td>True</td>\n    </tr>\n    <tr>\n      <th>...</th>\n      <td>...</td>\n      <td>...</td>\n      <td>...</td>\n      <td>...</td>\n      <td>...</td>\n    </tr>\n    <tr>\n      <th>4805</th>\n      <td>1958</td>\n      <td>BEST CLASSICAL PERFORMANCE - INSTRUMENTALIST (...</td>\n      <td>TCHAIKOVSKY: PIANO CONCERTO NO. 1 IN B FLAT MI...</td>\n      <td>NaN</td>\n      <td>True</td>\n    </tr>\n    <tr>\n      <th>4806</th>\n      <td>1958</td>\n      <td>BEST CLASSICAL PERFORMANCE - INSTRUMENTALIST (...</td>\n      <td>SEGOVIA GOLDEN JUBILEE</td>\n      <td>NaN</td>\n      <td>True</td>\n    </tr>\n    <tr>\n      <th>4807</th>\n      <td>1958</td>\n      <td>BEST CLASSICAL PERFORMANCE - CHAMBER MUSIC (IN...</td>\n      <td>BEETHOVEN: QUARTET 130</td>\n      <td>NaN</td>\n      <td>True</td>\n    </tr>\n    <tr>\n      <th>4808</th>\n      <td>1958</td>\n      <td>BEST CLASSICAL PERFORMANCE - VOCAL SOLOIST (WI...</td>\n      <td>OPERATIC RECITAL</td>\n      <td>NaN</td>\n      <td>True</td>\n    </tr>\n    <tr>\n      <th>4809</th>\n      <td>1958</td>\n      <td>BEST CLASSICAL PERFORMANCE - OPERATIC OR CHORAL</td>\n      <td>VIRTUOSO</td>\n      <td>NaN</td>\n      <td>True</td>\n    </tr>\n  </tbody>\n</table>\n<p>4810 rows × 5 columns</p>\n</div>"
     },
     "execution_count": 27,
     "metadata": {},
     "output_type": "execute_result"
    }
   ],
   "source": [
    "columns_to_exclude = [ \"winner\"]\n",
    "\n",
    "# Aplica la conversión a mayúsculas a todas las columnas, excepto las excluidas\n",
    "df[df.columns.difference(columns_to_exclude)] = df[df.columns.difference(columns_to_exclude)].applymap(lambda x: x.upper() if isinstance(x, str) else x)\n",
    "df"
   ],
   "metadata": {
    "id": "e455b5df7977c004",
    "outputId": "e80d52cb-b8c9-49ae-fac5-710a7126d6b4",
    "ExecuteTime": {
     "end_time": "2023-10-15T03:13:57.609458600Z",
     "start_time": "2023-10-15T03:13:57.500083800Z"
    }
   },
   "id": "e455b5df7977c004"
  },
  {
   "cell_type": "markdown",
   "source": [
    "## ESTO VA EN EL DOCUMENTO, Esto lo hacemos con el fin de buscar si hay mas registros con alguno de los nombres de las categorias, ya que de ser asi podriamos rellenar las Casillas que salen nulas.\n",
    "\n",
    "Este no es el caso, ya que no existen mas registros con la categoria \"REMIXER OF THE YEAR, NON-CLASSICAL\" y  \"BEST NEW COUNTRY &\""
   ],
   "metadata": {
    "id": "CA1b5wjerb6Y"
   },
   "id": "CA1b5wjerb6Y"
  },
  {
   "cell_type": "markdown",
   "source": [
    "### Traemos los nulos de la columna nominee"
   ],
   "metadata": {
    "collapsed": false,
    "id": "9c4697dac2ccb6c3",
    "ExecuteTime": {
     "end_time": "2023-10-15T03:17:05.300281Z",
     "start_time": "2023-10-15T03:17:05.206532200Z"
    }
   },
   "id": "9c4697dac2ccb6c3"
  },
  {
   "cell_type": "code",
   "execution_count": 28,
   "outputs": [
    {
     "data": {
      "text/plain": "      year                                   category nominee artist  winner\n2261  2000         REMIXER OF THE YEAR, NON-CLASSICAL     NaN    NaN    True\n2359  1999         REMIXER OF THE YEAR, NON-CLASSICAL     NaN    NaN    True\n2454  1998         REMIXER OF THE YEAR, NON-CLASSICAL     NaN    NaN    True\n2547  1997         REMIXER OF THE YEAR, NON-CLASSICAL     NaN    NaN    True\n4525  1965          BEST NEW COUNTRY & WESTERN ARTIST     NaN    NaN    True\n4573  1964  BEST NEW COUNTRY & WESTERN ARTIST OF 1964     NaN    NaN    True",
      "text/html": "<div>\n<style scoped>\n    .dataframe tbody tr th:only-of-type {\n        vertical-align: middle;\n    }\n\n    .dataframe tbody tr th {\n        vertical-align: top;\n    }\n\n    .dataframe thead th {\n        text-align: right;\n    }\n</style>\n<table border=\"1\" class=\"dataframe\">\n  <thead>\n    <tr style=\"text-align: right;\">\n      <th></th>\n      <th>year</th>\n      <th>category</th>\n      <th>nominee</th>\n      <th>artist</th>\n      <th>winner</th>\n    </tr>\n  </thead>\n  <tbody>\n    <tr>\n      <th>2261</th>\n      <td>2000</td>\n      <td>REMIXER OF THE YEAR, NON-CLASSICAL</td>\n      <td>NaN</td>\n      <td>NaN</td>\n      <td>True</td>\n    </tr>\n    <tr>\n      <th>2359</th>\n      <td>1999</td>\n      <td>REMIXER OF THE YEAR, NON-CLASSICAL</td>\n      <td>NaN</td>\n      <td>NaN</td>\n      <td>True</td>\n    </tr>\n    <tr>\n      <th>2454</th>\n      <td>1998</td>\n      <td>REMIXER OF THE YEAR, NON-CLASSICAL</td>\n      <td>NaN</td>\n      <td>NaN</td>\n      <td>True</td>\n    </tr>\n    <tr>\n      <th>2547</th>\n      <td>1997</td>\n      <td>REMIXER OF THE YEAR, NON-CLASSICAL</td>\n      <td>NaN</td>\n      <td>NaN</td>\n      <td>True</td>\n    </tr>\n    <tr>\n      <th>4525</th>\n      <td>1965</td>\n      <td>BEST NEW COUNTRY &amp; WESTERN ARTIST</td>\n      <td>NaN</td>\n      <td>NaN</td>\n      <td>True</td>\n    </tr>\n    <tr>\n      <th>4573</th>\n      <td>1964</td>\n      <td>BEST NEW COUNTRY &amp; WESTERN ARTIST OF 1964</td>\n      <td>NaN</td>\n      <td>NaN</td>\n      <td>True</td>\n    </tr>\n  </tbody>\n</table>\n</div>"
     },
     "execution_count": 28,
     "metadata": {},
     "output_type": "execute_result"
    }
   ],
   "source": [
    "null_nominee = df[df[\"nominee\"].isnull()]\n",
    "null_nominee"
   ],
   "metadata": {
    "id": "84616197303a41ba",
    "outputId": "bc17745d-724c-43a4-ca5e-35f50d6da7d9",
    "ExecuteTime": {
     "end_time": "2023-10-15T03:13:57.609458600Z",
     "start_time": "2023-10-15T03:13:57.531332Z"
    }
   },
   "id": "84616197303a41ba"
  },
  {
   "cell_type": "markdown",
   "source": [
    "### Verificamos si existen mas registros que empiecen con nombre REMIXER en la columna category\n",
    "### para validar si hay registros con el mismo nombre en la columna \"category\" y asi rellenarlo, de no ser asi seran borrados "
   ],
   "metadata": {
    "collapsed": false,
    "id": "a17d78c93ae87c8c",
    "ExecuteTime": {
     "end_time": "2023-10-15T03:17:05.300281Z",
     "start_time": "2023-10-15T03:17:05.222156700Z"
    }
   },
   "id": "a17d78c93ae87c8c"
  },
  {
   "cell_type": "code",
   "execution_count": 29,
   "outputs": [
    {
     "data": {
      "text/plain": "      year                            category nominee artist  winner\n2261  2000  REMIXER OF THE YEAR, NON-CLASSICAL     NaN    NaN    True\n2359  1999  REMIXER OF THE YEAR, NON-CLASSICAL     NaN    NaN    True\n2454  1998  REMIXER OF THE YEAR, NON-CLASSICAL     NaN    NaN    True\n2547  1997  REMIXER OF THE YEAR, NON-CLASSICAL     NaN    NaN    True",
      "text/html": "<div>\n<style scoped>\n    .dataframe tbody tr th:only-of-type {\n        vertical-align: middle;\n    }\n\n    .dataframe tbody tr th {\n        vertical-align: top;\n    }\n\n    .dataframe thead th {\n        text-align: right;\n    }\n</style>\n<table border=\"1\" class=\"dataframe\">\n  <thead>\n    <tr style=\"text-align: right;\">\n      <th></th>\n      <th>year</th>\n      <th>category</th>\n      <th>nominee</th>\n      <th>artist</th>\n      <th>winner</th>\n    </tr>\n  </thead>\n  <tbody>\n    <tr>\n      <th>2261</th>\n      <td>2000</td>\n      <td>REMIXER OF THE YEAR, NON-CLASSICAL</td>\n      <td>NaN</td>\n      <td>NaN</td>\n      <td>True</td>\n    </tr>\n    <tr>\n      <th>2359</th>\n      <td>1999</td>\n      <td>REMIXER OF THE YEAR, NON-CLASSICAL</td>\n      <td>NaN</td>\n      <td>NaN</td>\n      <td>True</td>\n    </tr>\n    <tr>\n      <th>2454</th>\n      <td>1998</td>\n      <td>REMIXER OF THE YEAR, NON-CLASSICAL</td>\n      <td>NaN</td>\n      <td>NaN</td>\n      <td>True</td>\n    </tr>\n    <tr>\n      <th>2547</th>\n      <td>1997</td>\n      <td>REMIXER OF THE YEAR, NON-CLASSICAL</td>\n      <td>NaN</td>\n      <td>NaN</td>\n      <td>True</td>\n    </tr>\n  </tbody>\n</table>\n</div>"
     },
     "execution_count": 29,
     "metadata": {},
     "output_type": "execute_result"
    }
   ],
   "source": [
    "new_df = df[df[\"category\"].str.startswith(\"REMIXER\")]\n",
    "new_df"
   ],
   "metadata": {
    "id": "4005a081f224a897",
    "outputId": "c1c5c5a0-7ac8-4ae1-df0b-2018df39d10e",
    "ExecuteTime": {
     "end_time": "2023-10-15T03:13:57.609458600Z",
     "start_time": "2023-10-15T03:13:57.546995Z"
    }
   },
   "id": "4005a081f224a897"
  },
  {
   "cell_type": "markdown",
   "source": [
    "### Verificamos si existen mas registros que empiecen con nombre BEST NEW COUNTRY & en la columna category\n",
    "### para validar si rellenamos o borramos estos registros "
   ],
   "metadata": {
    "collapsed": false,
    "id": "47ea002c197f92f8",
    "ExecuteTime": {
     "end_time": "2023-10-15T03:17:05.300281Z",
     "start_time": "2023-10-15T03:17:05.253406200Z"
    }
   },
   "id": "47ea002c197f92f8"
  },
  {
   "cell_type": "code",
   "execution_count": 30,
   "outputs": [
    {
     "data": {
      "text/plain": "      year                                   category nominee artist  winner\n4525  1965          BEST NEW COUNTRY & WESTERN ARTIST     NaN    NaN    True\n4573  1964  BEST NEW COUNTRY & WESTERN ARTIST OF 1964     NaN    NaN    True",
      "text/html": "<div>\n<style scoped>\n    .dataframe tbody tr th:only-of-type {\n        vertical-align: middle;\n    }\n\n    .dataframe tbody tr th {\n        vertical-align: top;\n    }\n\n    .dataframe thead th {\n        text-align: right;\n    }\n</style>\n<table border=\"1\" class=\"dataframe\">\n  <thead>\n    <tr style=\"text-align: right;\">\n      <th></th>\n      <th>year</th>\n      <th>category</th>\n      <th>nominee</th>\n      <th>artist</th>\n      <th>winner</th>\n    </tr>\n  </thead>\n  <tbody>\n    <tr>\n      <th>4525</th>\n      <td>1965</td>\n      <td>BEST NEW COUNTRY &amp; WESTERN ARTIST</td>\n      <td>NaN</td>\n      <td>NaN</td>\n      <td>True</td>\n    </tr>\n    <tr>\n      <th>4573</th>\n      <td>1964</td>\n      <td>BEST NEW COUNTRY &amp; WESTERN ARTIST OF 1964</td>\n      <td>NaN</td>\n      <td>NaN</td>\n      <td>True</td>\n    </tr>\n  </tbody>\n</table>\n</div>"
     },
     "execution_count": 30,
     "metadata": {},
     "output_type": "execute_result"
    }
   ],
   "source": [
    "new_df = df[df[\"category\"].str.startswith(\"BEST NEW COUNTRY &\")]\n",
    "new_df"
   ],
   "metadata": {
    "id": "4ef30e5f2eed0143",
    "outputId": "c8b78451-2c11-49b2-c286-beac51fce234",
    "ExecuteTime": {
     "end_time": "2023-10-15T03:13:57.609458600Z",
     "start_time": "2023-10-15T03:13:57.578210100Z"
    }
   },
   "id": "4ef30e5f2eed0143"
  },
  {
   "cell_type": "markdown",
   "source": [
    "## Eliminamos los registros ya que tienen columnas importantes para nuestro analisis vacias y ademas no se vio la forma de rellenarlos"
   ],
   "metadata": {
    "collapsed": false,
    "id": "8affe9b36ab25ae8",
    "ExecuteTime": {
     "end_time": "2023-10-15T03:17:05.300281Z",
     "start_time": "2023-10-15T03:17:05.269031400Z"
    }
   },
   "id": "8affe9b36ab25ae8"
  },
  {
   "cell_type": "code",
   "execution_count": 31,
   "outputs": [
    {
     "data": {
      "text/plain": "      year                                           category  \\\n0     2019                                 RECORD OF THE YEAR   \n1     2019                                 RECORD OF THE YEAR   \n2     2019                                 RECORD OF THE YEAR   \n3     2019                                 RECORD OF THE YEAR   \n4     2019                                 RECORD OF THE YEAR   \n...    ...                                                ...   \n4805  1958  BEST CLASSICAL PERFORMANCE - INSTRUMENTALIST (...   \n4806  1958  BEST CLASSICAL PERFORMANCE - INSTRUMENTALIST (...   \n4807  1958  BEST CLASSICAL PERFORMANCE - CHAMBER MUSIC (IN...   \n4808  1958  BEST CLASSICAL PERFORMANCE - VOCAL SOLOIST (WI...   \n4809  1958    BEST CLASSICAL PERFORMANCE - OPERATIC OR CHORAL   \n\n                                                nominee         artist  winner  \n0                                               BAD GUY  BILLIE EILISH    True  \n1                                               HEY, MA       BON IVER    True  \n2                                               7 RINGS  ARIANA GRANDE    True  \n3                                            HARD PLACE         H.E.R.    True  \n4                                                  TALK         KHALID    True  \n...                                                 ...            ...     ...  \n4805  TCHAIKOVSKY: PIANO CONCERTO NO. 1 IN B FLAT MI...            NaN    True  \n4806                             SEGOVIA GOLDEN JUBILEE            NaN    True  \n4807                             BEETHOVEN: QUARTET 130            NaN    True  \n4808                                   OPERATIC RECITAL            NaN    True  \n4809                                           VIRTUOSO            NaN    True  \n\n[4804 rows x 5 columns]",
      "text/html": "<div>\n<style scoped>\n    .dataframe tbody tr th:only-of-type {\n        vertical-align: middle;\n    }\n\n    .dataframe tbody tr th {\n        vertical-align: top;\n    }\n\n    .dataframe thead th {\n        text-align: right;\n    }\n</style>\n<table border=\"1\" class=\"dataframe\">\n  <thead>\n    <tr style=\"text-align: right;\">\n      <th></th>\n      <th>year</th>\n      <th>category</th>\n      <th>nominee</th>\n      <th>artist</th>\n      <th>winner</th>\n    </tr>\n  </thead>\n  <tbody>\n    <tr>\n      <th>0</th>\n      <td>2019</td>\n      <td>RECORD OF THE YEAR</td>\n      <td>BAD GUY</td>\n      <td>BILLIE EILISH</td>\n      <td>True</td>\n    </tr>\n    <tr>\n      <th>1</th>\n      <td>2019</td>\n      <td>RECORD OF THE YEAR</td>\n      <td>HEY, MA</td>\n      <td>BON IVER</td>\n      <td>True</td>\n    </tr>\n    <tr>\n      <th>2</th>\n      <td>2019</td>\n      <td>RECORD OF THE YEAR</td>\n      <td>7 RINGS</td>\n      <td>ARIANA GRANDE</td>\n      <td>True</td>\n    </tr>\n    <tr>\n      <th>3</th>\n      <td>2019</td>\n      <td>RECORD OF THE YEAR</td>\n      <td>HARD PLACE</td>\n      <td>H.E.R.</td>\n      <td>True</td>\n    </tr>\n    <tr>\n      <th>4</th>\n      <td>2019</td>\n      <td>RECORD OF THE YEAR</td>\n      <td>TALK</td>\n      <td>KHALID</td>\n      <td>True</td>\n    </tr>\n    <tr>\n      <th>...</th>\n      <td>...</td>\n      <td>...</td>\n      <td>...</td>\n      <td>...</td>\n      <td>...</td>\n    </tr>\n    <tr>\n      <th>4805</th>\n      <td>1958</td>\n      <td>BEST CLASSICAL PERFORMANCE - INSTRUMENTALIST (...</td>\n      <td>TCHAIKOVSKY: PIANO CONCERTO NO. 1 IN B FLAT MI...</td>\n      <td>NaN</td>\n      <td>True</td>\n    </tr>\n    <tr>\n      <th>4806</th>\n      <td>1958</td>\n      <td>BEST CLASSICAL PERFORMANCE - INSTRUMENTALIST (...</td>\n      <td>SEGOVIA GOLDEN JUBILEE</td>\n      <td>NaN</td>\n      <td>True</td>\n    </tr>\n    <tr>\n      <th>4807</th>\n      <td>1958</td>\n      <td>BEST CLASSICAL PERFORMANCE - CHAMBER MUSIC (IN...</td>\n      <td>BEETHOVEN: QUARTET 130</td>\n      <td>NaN</td>\n      <td>True</td>\n    </tr>\n    <tr>\n      <th>4808</th>\n      <td>1958</td>\n      <td>BEST CLASSICAL PERFORMANCE - VOCAL SOLOIST (WI...</td>\n      <td>OPERATIC RECITAL</td>\n      <td>NaN</td>\n      <td>True</td>\n    </tr>\n    <tr>\n      <th>4809</th>\n      <td>1958</td>\n      <td>BEST CLASSICAL PERFORMANCE - OPERATIC OR CHORAL</td>\n      <td>VIRTUOSO</td>\n      <td>NaN</td>\n      <td>True</td>\n    </tr>\n  </tbody>\n</table>\n<p>4804 rows × 5 columns</p>\n</div>"
     },
     "execution_count": 31,
     "metadata": {},
     "output_type": "execute_result"
    }
   ],
   "source": [
    "# aqui eliminamos\n",
    "df.drop([2261,2359,2454,2547,4525,4573], axis=0, inplace=True)\n",
    "df"
   ],
   "metadata": {
    "colab": {
     "base_uri": "https://localhost:8080/",
     "height": 424
    },
    "id": "baa475cc0626addf",
    "outputId": "e34e18a2-4e11-4efb-c4ec-82540a2f13e2",
    "ExecuteTime": {
     "end_time": "2023-10-15T03:13:57.692775500Z",
     "start_time": "2023-10-15T03:13:57.593836700Z"
    }
   },
   "id": "baa475cc0626addf"
  },
  {
   "cell_type": "markdown",
   "source": [
    "## Verificando los nulos de la columna Artist "
   ],
   "metadata": {
    "collapsed": false
   },
   "id": "7cc80fbc27752d10"
  },
  {
   "cell_type": "code",
   "execution_count": 66,
   "outputs": [],
   "source": [
    "null_artist = df[df[\"artist\"].isnull()]\n",
    "null_artist"
   ],
   "metadata": {
    "colab": {
     "base_uri": "https://localhost:8080/",
     "height": 424
    },
    "id": "3a9b4d394a3469c8",
    "outputId": "e64fe27b-483f-4878-892d-e4d812320da7",
    "ExecuteTime": {
     "end_time": "2023-10-15T03:17:05.362787400Z",
     "start_time": "2023-10-15T03:17:05.300281Z"
    }
   },
   "id": "3a9b4d394a3469c8"
  },
  {
   "cell_type": "code",
   "execution_count": 33,
   "outputs": [
    {
     "data": {
      "text/plain": "      year                                           category  \\\n0     2019                                 RECORD OF THE YEAR   \n1     2019                                 RECORD OF THE YEAR   \n2     2019                                 RECORD OF THE YEAR   \n3     2019                                 RECORD OF THE YEAR   \n4     2019                                 RECORD OF THE YEAR   \n...    ...                                                ...   \n4805  1958  BEST CLASSICAL PERFORMANCE - INSTRUMENTALIST (...   \n4806  1958  BEST CLASSICAL PERFORMANCE - INSTRUMENTALIST (...   \n4807  1958  BEST CLASSICAL PERFORMANCE - CHAMBER MUSIC (IN...   \n4808  1958  BEST CLASSICAL PERFORMANCE - VOCAL SOLOIST (WI...   \n4809  1958    BEST CLASSICAL PERFORMANCE - OPERATIC OR CHORAL   \n\n                                                nominee         artist  winner  \n0                                               BAD GUY  BILLIE EILISH    True  \n1                                               HEY, MA       BON IVER    True  \n2                                               7 RINGS  ARIANA GRANDE    True  \n3                                            HARD PLACE         H.E.R.    True  \n4                                                  TALK         KHALID    True  \n...                                                 ...            ...     ...  \n4805  TCHAIKOVSKY: PIANO CONCERTO NO. 1 IN B FLAT MI...            NaN    True  \n4806                             SEGOVIA GOLDEN JUBILEE            NaN    True  \n4807                             BEETHOVEN: QUARTET 130            NaN    True  \n4808                                   OPERATIC RECITAL            NaN    True  \n4809                                           VIRTUOSO            NaN    True  \n\n[4804 rows x 5 columns]",
      "text/html": "<div>\n<style scoped>\n    .dataframe tbody tr th:only-of-type {\n        vertical-align: middle;\n    }\n\n    .dataframe tbody tr th {\n        vertical-align: top;\n    }\n\n    .dataframe thead th {\n        text-align: right;\n    }\n</style>\n<table border=\"1\" class=\"dataframe\">\n  <thead>\n    <tr style=\"text-align: right;\">\n      <th></th>\n      <th>year</th>\n      <th>category</th>\n      <th>nominee</th>\n      <th>artist</th>\n      <th>winner</th>\n    </tr>\n  </thead>\n  <tbody>\n    <tr>\n      <th>0</th>\n      <td>2019</td>\n      <td>RECORD OF THE YEAR</td>\n      <td>BAD GUY</td>\n      <td>BILLIE EILISH</td>\n      <td>True</td>\n    </tr>\n    <tr>\n      <th>1</th>\n      <td>2019</td>\n      <td>RECORD OF THE YEAR</td>\n      <td>HEY, MA</td>\n      <td>BON IVER</td>\n      <td>True</td>\n    </tr>\n    <tr>\n      <th>2</th>\n      <td>2019</td>\n      <td>RECORD OF THE YEAR</td>\n      <td>7 RINGS</td>\n      <td>ARIANA GRANDE</td>\n      <td>True</td>\n    </tr>\n    <tr>\n      <th>3</th>\n      <td>2019</td>\n      <td>RECORD OF THE YEAR</td>\n      <td>HARD PLACE</td>\n      <td>H.E.R.</td>\n      <td>True</td>\n    </tr>\n    <tr>\n      <th>4</th>\n      <td>2019</td>\n      <td>RECORD OF THE YEAR</td>\n      <td>TALK</td>\n      <td>KHALID</td>\n      <td>True</td>\n    </tr>\n    <tr>\n      <th>...</th>\n      <td>...</td>\n      <td>...</td>\n      <td>...</td>\n      <td>...</td>\n      <td>...</td>\n    </tr>\n    <tr>\n      <th>4805</th>\n      <td>1958</td>\n      <td>BEST CLASSICAL PERFORMANCE - INSTRUMENTALIST (...</td>\n      <td>TCHAIKOVSKY: PIANO CONCERTO NO. 1 IN B FLAT MI...</td>\n      <td>NaN</td>\n      <td>True</td>\n    </tr>\n    <tr>\n      <th>4806</th>\n      <td>1958</td>\n      <td>BEST CLASSICAL PERFORMANCE - INSTRUMENTALIST (...</td>\n      <td>SEGOVIA GOLDEN JUBILEE</td>\n      <td>NaN</td>\n      <td>True</td>\n    </tr>\n    <tr>\n      <th>4807</th>\n      <td>1958</td>\n      <td>BEST CLASSICAL PERFORMANCE - CHAMBER MUSIC (IN...</td>\n      <td>BEETHOVEN: QUARTET 130</td>\n      <td>NaN</td>\n      <td>True</td>\n    </tr>\n    <tr>\n      <th>4808</th>\n      <td>1958</td>\n      <td>BEST CLASSICAL PERFORMANCE - VOCAL SOLOIST (WI...</td>\n      <td>OPERATIC RECITAL</td>\n      <td>NaN</td>\n      <td>True</td>\n    </tr>\n    <tr>\n      <th>4809</th>\n      <td>1958</td>\n      <td>BEST CLASSICAL PERFORMANCE - OPERATIC OR CHORAL</td>\n      <td>VIRTUOSO</td>\n      <td>NaN</td>\n      <td>True</td>\n    </tr>\n  </tbody>\n</table>\n<p>4804 rows × 5 columns</p>\n</div>"
     },
     "execution_count": 33,
     "metadata": {},
     "output_type": "execute_result"
    }
   ],
   "source": [
    "df"
   ],
   "metadata": {
    "collapsed": false,
    "ExecuteTime": {
     "end_time": "2023-10-15T03:13:57.802137100Z",
     "start_time": "2023-10-15T03:13:57.677104700Z"
    }
   },
   "id": "8e13c885da155c47"
  },
  {
   "cell_type": "markdown",
   "source": [
    "### Eliminamos la columnas innecesarias"
   ],
   "metadata": {
    "collapsed": false,
    "id": "7510820a184d2282",
    "ExecuteTime": {
     "end_time": "2023-10-15T03:17:05.440906900Z",
     "start_time": "2023-10-15T03:17:05.315906100Z"
    }
   },
   "id": "7510820a184d2282"
  },
  {
   "cell_type": "markdown",
   "source": [
    "### se eliminan img,workers,updated_at,published_at porque no nos aportan informacion relevante para nuestro analisis.  titlle se eliminan porque se puede inferir de que año son los premios de los grammys con la columna year"
   ],
   "metadata": {
    "id": "rC3XXHJEt1it"
   },
   "id": "rC3XXHJEt1it"
  },
  {
   "cell_type": "code",
   "execution_count": 68,
   "outputs": [],
   "source": [
    "df.drop(['img', 'title', 'published_at', 'updated_at', 'workers'], axis=1, inplace=True)\n",
    "df"
   ],
   "metadata": {
    "colab": {
     "base_uri": "https://localhost:8080/",
     "height": 424
    },
    "id": "2c05a5507d9e5191",
    "outputId": "12ba11ef-915e-4396-fee0-7334314eb9e0",
    "ExecuteTime": {
     "end_time": "2023-10-15T03:17:05.440906900Z",
     "start_time": "2023-10-15T03:17:05.347160100Z"
    }
   },
   "id": "2c05a5507d9e5191"
  },
  {
   "cell_type": "markdown",
   "source": [
    "## transformamos los datos de  la columna winner donde True =1 y False =0 . "
   ],
   "metadata": {
    "collapsed": false
   },
   "id": "8ba82b126d9268df"
  },
  {
   "cell_type": "markdown",
   "source": [
    "### Entendiendo que True significa que ganaron los premios, pero al 100 % de la columna tiene True , nos hace inferir de que lo mas probable es que no todos ganaron, entonces lo tomaremos solamente como que fueron nominados a los premios"
   ],
   "metadata": {
    "collapsed": false,
    "ExecuteTime": {
     "end_time": "2023-10-15T03:17:05.662809900Z",
     "start_time": "2023-10-15T03:17:05.362787400Z"
    }
   },
   "id": "83acc61158498152"
  },
  {
   "cell_type": "code",
   "execution_count": 70,
   "outputs": [
    {
     "data": {
      "text/plain": "627"
     },
     "execution_count": 70,
     "metadata": {},
     "output_type": "execute_result"
    }
   ],
   "source": [
    "df['winner'] = df['winner'].map({True: 1, False: 0})"
   ],
   "metadata": {
    "collapsed": false,
    "ExecuteTime": {
     "end_time": "2023-10-15T03:17:05.694358900Z",
     "start_time": "2023-10-15T03:17:05.662809900Z"
    }
   },
   "id": "eb8c69f45601460a"
  },
  {
   "cell_type": "markdown",
   "source": [
    "### Verificamos los nulos de la columna artistas?"
   ],
   "metadata": {
    "id": "VBJ3KKI4UDif",
    "ExecuteTime": {
     "end_time": "2023-10-15T03:13:58.020888200Z",
     "start_time": "2023-10-15T03:13:57.755263100Z"
    }
   },
   "id": "VBJ3KKI4UDif"
  },
  {
   "cell_type": "code",
   "execution_count": null,
   "outputs": [
    {
     "output_type": "execute_result",
     "data": {
      "text/plain": [
       "      year                                           category  \\\n",
       "16    2019                                   Song Of The Year   \n",
       "17    2019                                   Song Of The Year   \n",
       "18    2019                                   Song Of The Year   \n",
       "19    2019                                   Song Of The Year   \n",
       "20    2019                                   Song Of The Year   \n",
       "...    ...                                                ...   \n",
       "4805  1958  Best Classical Performance - Instrumentalist (...   \n",
       "4806  1958  Best Classical Performance - Instrumentalist (...   \n",
       "4807  1958  Best Classical Performance - Chamber Music (In...   \n",
       "4808  1958  Best Classical Performance - Vocal Soloist (Wi...   \n",
       "4809  1958    Best Classical Performance - Operatic Or Choral   \n",
       "\n",
       "                                                nominee artist  winner  \n",
       "16                                              Bad Guy    NaN    True  \n",
       "17                          Always Remember Us This Way    NaN    True  \n",
       "18                                 Bring My Flowers Now    NaN    True  \n",
       "19                                           Hard Place    NaN    True  \n",
       "20                                                Lover    NaN    True  \n",
       "...                                                 ...    ...     ...  \n",
       "4805  Tchaikovsky: Piano Concerto No. 1 In B Flat Mi...    NaN    True  \n",
       "4806                             Segovia Golden Jubilee    NaN    True  \n",
       "4807                             Beethoven: Quartet 130    NaN    True  \n",
       "4808                                   Operatic Recital    NaN    True  \n",
       "4809                                           Virtuoso    NaN    True  \n",
       "\n",
       "[1834 rows x 5 columns]"
      ],
      "text/html": [
       "\n",
       "  <div id=\"df-d3edee71-8dd8-4d75-af8c-5189777e587a\" class=\"colab-df-container\">\n",
       "    <div>\n",
       "<style scoped>\n",
       "    .dataframe tbody tr th:only-of-type {\n",
       "        vertical-align: middle;\n",
       "    }\n",
       "\n",
       "    .dataframe tbody tr th {\n",
       "        vertical-align: top;\n",
       "    }\n",
       "\n",
       "    .dataframe thead th {\n",
       "        text-align: right;\n",
       "    }\n",
       "</style>\n",
       "<table border=\"1\" class=\"dataframe\">\n",
       "  <thead>\n",
       "    <tr style=\"text-align: right;\">\n",
       "      <th></th>\n",
       "      <th>year</th>\n",
       "      <th>category</th>\n",
       "      <th>nominee</th>\n",
       "      <th>artist</th>\n",
       "      <th>winner</th>\n",
       "    </tr>\n",
       "  </thead>\n",
       "  <tbody>\n",
       "    <tr>\n",
       "      <th>16</th>\n",
       "      <td>2019</td>\n",
       "      <td>Song Of The Year</td>\n",
       "      <td>Bad Guy</td>\n",
       "      <td>NaN</td>\n",
       "      <td>True</td>\n",
       "    </tr>\n",
       "    <tr>\n",
       "      <th>17</th>\n",
       "      <td>2019</td>\n",
       "      <td>Song Of The Year</td>\n",
       "      <td>Always Remember Us This Way</td>\n",
       "      <td>NaN</td>\n",
       "      <td>True</td>\n",
       "    </tr>\n",
       "    <tr>\n",
       "      <th>18</th>\n",
       "      <td>2019</td>\n",
       "      <td>Song Of The Year</td>\n",
       "      <td>Bring My Flowers Now</td>\n",
       "      <td>NaN</td>\n",
       "      <td>True</td>\n",
       "    </tr>\n",
       "    <tr>\n",
       "      <th>19</th>\n",
       "      <td>2019</td>\n",
       "      <td>Song Of The Year</td>\n",
       "      <td>Hard Place</td>\n",
       "      <td>NaN</td>\n",
       "      <td>True</td>\n",
       "    </tr>\n",
       "    <tr>\n",
       "      <th>20</th>\n",
       "      <td>2019</td>\n",
       "      <td>Song Of The Year</td>\n",
       "      <td>Lover</td>\n",
       "      <td>NaN</td>\n",
       "      <td>True</td>\n",
       "    </tr>\n",
       "    <tr>\n",
       "      <th>...</th>\n",
       "      <td>...</td>\n",
       "      <td>...</td>\n",
       "      <td>...</td>\n",
       "      <td>...</td>\n",
       "      <td>...</td>\n",
       "    </tr>\n",
       "    <tr>\n",
       "      <th>4805</th>\n",
       "      <td>1958</td>\n",
       "      <td>Best Classical Performance - Instrumentalist (...</td>\n",
       "      <td>Tchaikovsky: Piano Concerto No. 1 In B Flat Mi...</td>\n",
       "      <td>NaN</td>\n",
       "      <td>True</td>\n",
       "    </tr>\n",
       "    <tr>\n",
       "      <th>4806</th>\n",
       "      <td>1958</td>\n",
       "      <td>Best Classical Performance - Instrumentalist (...</td>\n",
       "      <td>Segovia Golden Jubilee</td>\n",
       "      <td>NaN</td>\n",
       "      <td>True</td>\n",
       "    </tr>\n",
       "    <tr>\n",
       "      <th>4807</th>\n",
       "      <td>1958</td>\n",
       "      <td>Best Classical Performance - Chamber Music (In...</td>\n",
       "      <td>Beethoven: Quartet 130</td>\n",
       "      <td>NaN</td>\n",
       "      <td>True</td>\n",
       "    </tr>\n",
       "    <tr>\n",
       "      <th>4808</th>\n",
       "      <td>1958</td>\n",
       "      <td>Best Classical Performance - Vocal Soloist (Wi...</td>\n",
       "      <td>Operatic Recital</td>\n",
       "      <td>NaN</td>\n",
       "      <td>True</td>\n",
       "    </tr>\n",
       "    <tr>\n",
       "      <th>4809</th>\n",
       "      <td>1958</td>\n",
       "      <td>Best Classical Performance - Operatic Or Choral</td>\n",
       "      <td>Virtuoso</td>\n",
       "      <td>NaN</td>\n",
       "      <td>True</td>\n",
       "    </tr>\n",
       "  </tbody>\n",
       "</table>\n",
       "<p>1834 rows × 5 columns</p>\n",
       "</div>\n",
       "    <div class=\"colab-df-buttons\">\n",
       "\n",
       "  <div class=\"colab-df-container\">\n",
       "    <button class=\"colab-df-convert\" onclick=\"convertToInteractive('df-d3edee71-8dd8-4d75-af8c-5189777e587a')\"\n",
       "            title=\"Convert this dataframe to an interactive table.\"\n",
       "            style=\"display:none;\">\n",
       "\n",
       "  <svg xmlns=\"http://www.w3.org/2000/svg\" height=\"24px\" viewBox=\"0 -960 960 960\">\n",
       "    <path d=\"M120-120v-720h720v720H120Zm60-500h600v-160H180v160Zm220 220h160v-160H400v160Zm0 220h160v-160H400v160ZM180-400h160v-160H180v160Zm440 0h160v-160H620v160ZM180-180h160v-160H180v160Zm440 0h160v-160H620v160Z\"/>\n",
       "  </svg>\n",
       "    </button>\n",
       "\n",
       "  <style>\n",
       "    .colab-df-container {\n",
       "      display:flex;\n",
       "      gap: 12px;\n",
       "    }\n",
       "\n",
       "    .colab-df-convert {\n",
       "      background-color: #E8F0FE;\n",
       "      border: none;\n",
       "      border-radius: 50%;\n",
       "      cursor: pointer;\n",
       "      display: none;\n",
       "      fill: #1967D2;\n",
       "      height: 32px;\n",
       "      padding: 0 0 0 0;\n",
       "      width: 32px;\n",
       "    }\n",
       "\n",
       "    .colab-df-convert:hover {\n",
       "      background-color: #E2EBFA;\n",
       "      box-shadow: 0px 1px 2px rgba(60, 64, 67, 0.3), 0px 1px 3px 1px rgba(60, 64, 67, 0.15);\n",
       "      fill: #174EA6;\n",
       "    }\n",
       "\n",
       "    .colab-df-buttons div {\n",
       "      margin-bottom: 4px;\n",
       "    }\n",
       "\n",
       "    [theme=dark] .colab-df-convert {\n",
       "      background-color: #3B4455;\n",
       "      fill: #D2E3FC;\n",
       "    }\n",
       "\n",
       "    [theme=dark] .colab-df-convert:hover {\n",
       "      background-color: #434B5C;\n",
       "      box-shadow: 0px 1px 3px 1px rgba(0, 0, 0, 0.15);\n",
       "      filter: drop-shadow(0px 1px 2px rgba(0, 0, 0, 0.3));\n",
       "      fill: #FFFFFF;\n",
       "    }\n",
       "  </style>\n",
       "\n",
       "    <script>\n",
       "      const buttonEl =\n",
       "        document.querySelector('#df-d3edee71-8dd8-4d75-af8c-5189777e587a button.colab-df-convert');\n",
       "      buttonEl.style.display =\n",
       "        google.colab.kernel.accessAllowed ? 'block' : 'none';\n",
       "\n",
       "      async function convertToInteractive(key) {\n",
       "        const element = document.querySelector('#df-d3edee71-8dd8-4d75-af8c-5189777e587a');\n",
       "        const dataTable =\n",
       "          await google.colab.kernel.invokeFunction('convertToInteractive',\n",
       "                                                    [key], {});\n",
       "        if (!dataTable) return;\n",
       "\n",
       "        const docLinkHtml = 'Like what you see? Visit the ' +\n",
       "          '<a target=\"_blank\" href=https://colab.research.google.com/notebooks/data_table.ipynb>data table notebook</a>'\n",
       "          + ' to learn more about interactive tables.';\n",
       "        element.innerHTML = '';\n",
       "        dataTable['output_type'] = 'display_data';\n",
       "        await google.colab.output.renderOutput(dataTable, element);\n",
       "        const docLink = document.createElement('div');\n",
       "        docLink.innerHTML = docLinkHtml;\n",
       "        element.appendChild(docLink);\n",
       "      }\n",
       "    </script>\n",
       "  </div>\n",
       "\n",
       "\n",
       "<div id=\"df-d89cbd55-31e5-4f49-8d0f-bcc34a598d59\">\n",
       "  <button class=\"colab-df-quickchart\" onclick=\"quickchart('df-d89cbd55-31e5-4f49-8d0f-bcc34a598d59')\"\n",
       "            title=\"Suggest charts.\"\n",
       "            style=\"display:none;\">\n",
       "\n",
       "<svg xmlns=\"http://www.w3.org/2000/svg\" height=\"24px\"viewBox=\"0 0 24 24\"\n",
       "     width=\"24px\">\n",
       "    <g>\n",
       "        <path d=\"M19 3H5c-1.1 0-2 .9-2 2v14c0 1.1.9 2 2 2h14c1.1 0 2-.9 2-2V5c0-1.1-.9-2-2-2zM9 17H7v-7h2v7zm4 0h-2V7h2v10zm4 0h-2v-4h2v4z\"/>\n",
       "    </g>\n",
       "</svg>\n",
       "  </button>\n",
       "\n",
       "<style>\n",
       "  .colab-df-quickchart {\n",
       "      --bg-color: #E8F0FE;\n",
       "      --fill-color: #1967D2;\n",
       "      --hover-bg-color: #E2EBFA;\n",
       "      --hover-fill-color: #174EA6;\n",
       "      --disabled-fill-color: #AAA;\n",
       "      --disabled-bg-color: #DDD;\n",
       "  }\n",
       "\n",
       "  [theme=dark] .colab-df-quickchart {\n",
       "      --bg-color: #3B4455;\n",
       "      --fill-color: #D2E3FC;\n",
       "      --hover-bg-color: #434B5C;\n",
       "      --hover-fill-color: #FFFFFF;\n",
       "      --disabled-bg-color: #3B4455;\n",
       "      --disabled-fill-color: #666;\n",
       "  }\n",
       "\n",
       "  .colab-df-quickchart {\n",
       "    background-color: var(--bg-color);\n",
       "    border: none;\n",
       "    border-radius: 50%;\n",
       "    cursor: pointer;\n",
       "    display: none;\n",
       "    fill: var(--fill-color);\n",
       "    height: 32px;\n",
       "    padding: 0;\n",
       "    width: 32px;\n",
       "  }\n",
       "\n",
       "  .colab-df-quickchart:hover {\n",
       "    background-color: var(--hover-bg-color);\n",
       "    box-shadow: 0 1px 2px rgba(60, 64, 67, 0.3), 0 1px 3px 1px rgba(60, 64, 67, 0.15);\n",
       "    fill: var(--button-hover-fill-color);\n",
       "  }\n",
       "\n",
       "  .colab-df-quickchart-complete:disabled,\n",
       "  .colab-df-quickchart-complete:disabled:hover {\n",
       "    background-color: var(--disabled-bg-color);\n",
       "    fill: var(--disabled-fill-color);\n",
       "    box-shadow: none;\n",
       "  }\n",
       "\n",
       "  .colab-df-spinner {\n",
       "    border: 2px solid var(--fill-color);\n",
       "    border-color: transparent;\n",
       "    border-bottom-color: var(--fill-color);\n",
       "    animation:\n",
       "      spin 1s steps(1) infinite;\n",
       "  }\n",
       "\n",
       "  @keyframes spin {\n",
       "    0% {\n",
       "      border-color: transparent;\n",
       "      border-bottom-color: var(--fill-color);\n",
       "      border-left-color: var(--fill-color);\n",
       "    }\n",
       "    20% {\n",
       "      border-color: transparent;\n",
       "      border-left-color: var(--fill-color);\n",
       "      border-top-color: var(--fill-color);\n",
       "    }\n",
       "    30% {\n",
       "      border-color: transparent;\n",
       "      border-left-color: var(--fill-color);\n",
       "      border-top-color: var(--fill-color);\n",
       "      border-right-color: var(--fill-color);\n",
       "    }\n",
       "    40% {\n",
       "      border-color: transparent;\n",
       "      border-right-color: var(--fill-color);\n",
       "      border-top-color: var(--fill-color);\n",
       "    }\n",
       "    60% {\n",
       "      border-color: transparent;\n",
       "      border-right-color: var(--fill-color);\n",
       "    }\n",
       "    80% {\n",
       "      border-color: transparent;\n",
       "      border-right-color: var(--fill-color);\n",
       "      border-bottom-color: var(--fill-color);\n",
       "    }\n",
       "    90% {\n",
       "      border-color: transparent;\n",
       "      border-bottom-color: var(--fill-color);\n",
       "    }\n",
       "  }\n",
       "</style>\n",
       "\n",
       "  <script>\n",
       "    async function quickchart(key) {\n",
       "      const quickchartButtonEl =\n",
       "        document.querySelector('#' + key + ' button');\n",
       "      quickchartButtonEl.disabled = true;  // To prevent multiple clicks.\n",
       "      quickchartButtonEl.classList.add('colab-df-spinner');\n",
       "      try {\n",
       "        const charts = await google.colab.kernel.invokeFunction(\n",
       "            'suggestCharts', [key], {});\n",
       "      } catch (error) {\n",
       "        console.error('Error during call to suggestCharts:', error);\n",
       "      }\n",
       "      quickchartButtonEl.classList.remove('colab-df-spinner');\n",
       "      quickchartButtonEl.classList.add('colab-df-quickchart-complete');\n",
       "    }\n",
       "    (() => {\n",
       "      let quickchartButtonEl =\n",
       "        document.querySelector('#df-d89cbd55-31e5-4f49-8d0f-bcc34a598d59 button');\n",
       "      quickchartButtonEl.style.display =\n",
       "        google.colab.kernel.accessAllowed ? 'block' : 'none';\n",
       "    })();\n",
       "  </script>\n",
       "</div>\n",
       "    </div>\n",
       "  </div>\n"
      ]
     },
     "metadata": {},
     "execution_count": 101
    }
   ],
   "source": [
    "columns_to_check = [\"artist\"]\n",
    "\n",
    "# Verifica si hay valores nulos en las columnas especificadas\n",
    "filas_con_nulos = df[df[columns_to_check].isnull().all(axis=1)]\n",
    "filas_con_nulos"
   ],
   "metadata": {
    "ExecuteTime": {
     "end_time": "2023-09-30T22:34:25.604722400Z",
     "start_time": "2023-09-30T22:34:25.374267200Z"
    },
    "colab": {
     "base_uri": "https://localhost:8080/",
     "height": 424
    },
    "id": "34ba7787021f70e5",
    "outputId": "45f2e455-f2c3-467f-e6cb-b5664288dd66"
   },
   "id": "34ba7787021f70e5"
  },
  {
   "cell_type": "markdown",
   "source": [],
   "metadata": {
    "id": "6qn3a3K-UgE5",
    "ExecuteTime": {
     "end_time": "2023-10-15T03:13:58.490907300Z",
     "start_time": "2023-10-15T03:13:57.770886500Z"
    }
   },
   "id": "6qn3a3K-UgE5"
  },
  {
   "cell_type": "code",
   "source": [
    "# aqui hacer lo de artist"
   ],
   "metadata": {
    "id": "iiGJJ6oLUiA5",
    "ExecuteTime": {
     "end_time": "2023-10-15T03:13:58.569036100Z",
     "start_time": "2023-10-15T03:13:58.130260400Z"
    }
   },
   "id": "iiGJJ6oLUiA5",
   "execution_count": 38,
   "outputs": [
    {
     "data": {
      "text/plain": "627"
     },
     "execution_count": 38,
     "metadata": {},
     "output_type": "execute_result"
    }
   ]
  },
  {
   "cell_type": "markdown",
   "source": [
    "## Normalizando La Columna Categories"
   ],
   "metadata": {
    "collapsed": false
   },
   "id": "a98b8641d8badaab"
  },
  {
   "cell_type": "code",
   "source": [
    "categories = {\n",
    "    'Soundtracks/Music Videos------': [\n",
    "        'Best Song Written For Visual Media',\n",
    "        'Best Compilation Soundtrack For Visual Media',\n",
    "        'Best Score Soundtrack For Visual Media',\n",
    "        'Best Music Video',\n",
    "        'Best Music Film'\n",
    "    ],\n",
    "    'Production/Engineering------': [\n",
    "        'Best Instrumental Arrangement',\n",
    "        'Best Arrangement, Instrumental or A Cappella',\n",
    "        'Best Arrangement, Instruments and Vocals',\n",
    "        'Best Recording Package',\n",
    "        'Best Boxed Or Special Limited Edition Package',\n",
    "        'Best Album Notes',\n",
    "        'Best Historical Album',\n",
    "        'Best Engineered Album, Non-Classical',\n",
    "        'Producer Of The Year, Non-Classical',\n",
    "        'Best Remixed Recording',\n",
    "        'Best Immersive Audio Album',\n",
    "        'Best Engineered Album, Classical',\n",
    "        'Producer Of The Year, Classical'\n",
    "    ],\n",
    "    'Pop------': [\n",
    "        'Pop',\n",
    "        'Best Traditional Pop Performance',\n",
    "        'Best Pop Vocal Performance By A Duo, Group Or Chorus',\n",
    "        'Best Pop Vocal Performance By A Duo Or Group',\n",
    "        'Best Pop Vocal Collaboration',\n",
    "        'Best Pop Performance By A Duo Or Group With Vocal',\n",
    "        'Best Pop Collaboration With Vocals',\n",
    "        'Best Pop Instrumental Performance',\n",
    "        'Best Pop Vocal Collaboration',\n",
    "        'Best Pop Vocal Performance By A Group',\n",
    "        'Best Pop Vocal Performance By A Male',\n",
    "        'Best Pop Vocal Performance By A Female',\n",
    "        'Best Pop Performance By A Duo Or Group With Vocals',\n",
    "        'Best Contemporary Single/Album',\n",
    "        'Best Contemporary Female Solo Vocal Performance',\n",
    "        'Best Contemporary Male Solo Vocal Performance',\n",
    "        'Best Contemporary Vocal Performance By A Duo, Group Or Chorus',\n",
    "        'Best Contemporary Instrumental Performance',\n",
    "        'Best Contemporary Song',\n",
    "        'Best Contemporary Album',\n",
    "        'Best Contemporary Pop Vocal Performance, Female',\n",
    "        'Best Contemporary Pop Vocal Performance, Male',\n",
    "        'Best Contemporary Pop Performance - Vocal Duo Or Group',\n",
    "        'Best Contemporary Pop Performance, Chorus',\n",
    "        'Best Contemporary Pop Performance, Instrumental',\n",
    "        'Best Performance By A \"Top 40\" Artist',\n",
    "        'Best Pop Instrumental Performance By An Instrumental Performer',\n",
    "        'Best Pop Instrumental Performance By An Arranger, Composer, Orchestra And/Or Choral Leader',\n",
    "        'Best Contemporary Performance By A Chorus',\n",
    "        'Best Pop Instrumental Performance (Orchestra, Group Or Soloist)',\n",
    "        'Best Pop Instrumental Performance, (Orchestra, Group Or Soloist)',\n",
    "        'Best Pop Vocal Performance By A Duo Or Group With Vocal',\n",
    "        'Best Pop Vocal Collaboration'\n",
    "    ],\n",
    "    'Dance/Electronic------': [\n",
    "        'Dance/Electronic',\n",
    "        'Best Dance Recording',\n",
    "        'Best Dance/Electronic Album',\n",
    "        'Best Electronic/Dance Album',\n",
    "        'Best Dance/Electronica Album'\n",
    "    ],\n",
    "    'Rock/Metal/Alternative------': [\n",
    "        'Rock/Metal/Alternative',\n",
    "        'Best Rock Instrumental Performance (Orchestra, Group Or Soloist)',\n",
    "        'Best Hard Rock/Metal Performance Vocal Or Instrumental',\n",
    "        'Rock',\n",
    "        'Best Rock Performance',\n",
    "        'Best Metal Performance',\n",
    "        'Best Rock Song',\n",
    "        'Best Rock Album',\n",
    "        'Best Alternative Music Album',\n",
    "        'Hard Rock Performance',\n",
    "        'Best Hard Rock Performance',\n",
    "        'Best Rock Vocal Performance',\n",
    "        'Best Rock Performance By A Duo Or Group With Vocals',\n",
    "        'Best Hard Rock Performance With Vocal',\n",
    "        'Best Rock Vocal Performance, Solo',\n",
    "        'Best Rock Vocal Performance, Female',\n",
    "        'Best Rock Vocal Performance, Male',\n",
    "        'Best Rock Vocal Performance, Male Or Female',\n",
    "        'Best Male Rock Vocal Performance',\n",
    "        'Best Female Rock Vocal Performance',\n",
    "        'Best Rock Vocal Performance By A Duo Or Group',\n",
    "        'Best Rock Performance - Duo Or Group',\n",
    "        'Best Rock Instrumental Performance',\n",
    "        'Best Rock Instrumental Performance - Group Or Soloist With Group',\n",
    "        'Best Rock Gospel Album',\n",
    "        'Best Traditional Gospel Album',\n",
    "        'Best Contemporary R&B Gospel Album',\n",
    "        'Best Rock Vocal Performance By A Duo Or Group',\n",
    "        'Best Rock & Roll Recording',\n",
    "        'Best New Artist Of 1964',\n",
    "        'Best Rock & Roll Solo Vocal Performance - Male Or Female',\n",
    "        'Best Rock & Roll Group Performance, Vocal Or Instrumental',\n",
    "        'Best New Artist Of 1963',\n",
    "        'Best Solo Vocal Performance, Female',\n",
    "        'Best Solo Vocal Performance, Male',\n",
    "        'Best Rock & Roll Recording',\n",
    "        'Best Rock & Roll Solo Vocal Performance, Female',\n",
    "        'Best Rock & Roll Solo Vocal Performance, Male',\n",
    "        'Best Rock & Roll Group Performance, Vocal Or Instrumental',\n",
    "        'Best New Artist Of 1962',\n",
    "        'Best Instrumental Theme Or Instrumental Version Of Song',\n",
    "        'Best Performance By A Dance Band',\n",
    "        'Best Performance By A Vocal Group Or Chorus',\n",
    "        'Best Rock & Roll Solo Vocal Performance, Male Or Female'\n",
    "    ],\n",
    "    'R&B/Urban------': [\n",
    "        'R&B/Urban',\n",
    "        'R&B/Soul',\n",
    "        'Best R&B Performance',\n",
    "        'Best Traditional R&B Performance',\n",
    "        'Best R&B Song',\n",
    "        'Best Urban Contemporary Album',\n",
    "        'Best R&B Instrumental Performance (Orchestra, Group Or Soloist)',\n",
    "        'Best R&B Album',\n",
    "        'Best R&B/Sung Collaboration',\n",
    "        'Best Female R&B Vocal Performance',\n",
    "        'Best Male R&B Vocal Performance',\n",
    "        'Best R&B Performance By A Duo Or Group With Vocals',\n",
    "        'Best Traditional R&B Vocal Performance',\n",
    "        'Best Urban/Alternative Performance',\n",
    "        'Best Contemporary R&B Album',\n",
    "        'Best Contemporary R&B Gospel Album',\n",
    "        'Best R&B Instrumental Performance',\n",
    "        'Best Traditional R&B Vocal Album',\n",
    "        'Best R&B Vocal Performance By A Duo, Group Or Chorus',\n",
    "        'Best Rhythm & Blues Vocal Performance, Female',\n",
    "        'Best Rhythm & Blues Vocal Performance, Male',\n",
    "        'Best Rhythm & Blues Solo Vocal Performance, Female',\n",
    "        'Best Rhythm & Blues Solo Vocal Performance, Male',\n",
    "        'Best Rhythm & Blues Group Performance, Vocal Or Instrumental',\n",
    "        'Best Rhythm & Blues Solo Vocal Performance, Male Or Female',\n",
    "        'Best Rhythm & Blues Recording',\n",
    "        'Best Rhythm & Blues Performance By A Duo Or Group, Vocal Or Instrumental',\n",
    "        'Best Rhythm & Blues Performance',\n",
    "        'Best Rhythm & Blues Performance, Female',\n",
    "        'Best Rhythm & Blues Performance, Male',\n",
    "        'Best R&B Vocal Performance By A Duo Or Group',\n",
    "        'Best R&B Vocal Performance By A Group',\n",
    "        'Best Soul Gospel Performance',\n",
    "        'Best Rhythm & Blues Vocal Performance, Female',\n",
    "        'Best Rhythm & Blues Vocal Performance, Male',\n",
    "        'Best Rhythm & Blues Performance By A Duo Or Group, Vocal Or Instrumental',\n",
    "        'Best Rhythm & Blues Vocal Performance By A Group',\n",
    "        'Best Rhythm & Blues Vocal Performance, Female',\n",
    "        'Best Rhythm & Blues Vocal Performance, Male',\n",
    "        'Best Rhythm & Blues Vocal Performance By A Duo Or Group',\n",
    "        'Best Rhythm & Blues Vocal Performance By A Group',\n",
    "        'Best Contemporary (R&R) Recording',\n",
    "        'Best Contemporary (R&R) Solo Vocal Performance - Male Or Female',\n",
    "        'Best Contemporary (R&R) Group Performance, Vocal Or Instrumental',\n",
    "        'Best Contemporary (R&R) Single',\n",
    "        'Best Contemporary (R&R) Vocal Performance - Female',\n",
    "        'Best Contemporary (R&R) Vocal Performance - Male',\n",
    "        'Best Contemporary (R&R) Performance - Group (Vocal Or Instrumental)',\n",
    "        'Best Rhythm & Blues Solo Vocal Performance, Male Or Female'\n",
    "    ],\n",
    "    'Rap/Hip-Hop------': [\n",
    "        'Rap/Hip-Hop',\n",
    "        'Best Rap Performance',\n",
    "        'Best Rap/Sung Performance',\n",
    "        'Best Rap Song',\n",
    "        'Best Rap Album',\n",
    "        'Best Rap/Sung Collaboration',\n",
    "        'Best Rap Solo Performance',\n",
    "        'Best Rap Performance By A Duo Or Group',\n",
    "        'Best Female Rap Solo Performance',\n",
    "        'Best Male Rap Solo Performance'\n",
    "    ],\n",
    "    'Country------': [\n",
    "        'Country',\n",
    "        'Best Country Solo Performance',\n",
    "        'Best Country Duo/Group Performance',\n",
    "        'Best Country Song',\n",
    "        'Best Country Album',\n",
    "        'Best Country Vocal Performance',\n",
    "        'Best Country Vocal Performance, Female',\n",
    "        'Best Country Vocal Performance, Male',\n",
    "        'Best Country Performance By A Duo Or Group With Vocals',\n",
    "        'Best Country Collaboration With Vocals',\n",
    "        'Best Country Instrumental Performance',\n",
    "        'Best Country Instrumental Performance (Orchestra, Group Or Soloist)',\n",
    "        'Best Country Vocal Performance, Duet',\n",
    "        'Best New Country Song',\n",
    "        'Best Country Performance Duo Or Group',\n",
    "        'Best New Country Song',\n",
    "        'Best Southern Gospel, Country Gospel Or Bluegrass Gospel Album',\n",
    "        'Best Mexican-American/Tejano Music Performance',\n",
    "        'Best Gospel/Contemporary Christian Music Performance',\n",
    "        'Best Gospel Song',\n",
    "        'Best Contemporary Christian Music Song',\n",
    "        'Best Gospel Album',\n",
    "        'Best Contemporary Christian Music Album',\n",
    "        'Best Roots Gospel Album',\n",
    "        'Best Latin Pop Album',\n",
    "        'Best Latin Rock, Urban or Alternative Album',\n",
    "        'Best Regional Mexican Music Album (Including Tejano)',\n",
    "        'Best Tropical Latin Album',\n",
    "        'Best Traditional Blues Album',\n",
    "        'Best Contemporary Blues Album',\n",
    "        'Best Folk Album',\n",
    "        'Best Regional Roots Music Album',\n",
    "        'Best Folk Recording'\n",
    "    ],\n",
    "    'Jazz/Blues------': [\n",
    "        'Jazz/Blues',\n",
    "        'Jazz',\n",
    "        'Jazz (Continuación)',\n",
    "        'Best Jazz Fusion Performance',\n",
    "        'Best Jazz Instrumental Performance Soloist (On A Jazz Recording)',\n",
    "        'Best Large Jazz Ensemble Performance',\n",
    "        'Best Jazz Vocal Album',\n",
    "        'Best Jazz Instrumental Album',\n",
    "        'Best Jazz Instrumental Album, Individual or Group',\n",
    "        'Best Jazz Performance By A Soloist',\n",
    "        'Best Jazz Performance By A Group',\n",
    "        'Best Jazz Performance By A Big Band',\n",
    "        'Best Jazz Instrumental Performance - Group Or Soloist With Group',\n",
    "        'Best Jazz Instrumental Performance - Soloist Or Small Group',\n",
    "        'Best Jazz Performance, Individual',\n",
    "        'Best Jazz Performance, Group',\n",
    "        'Best Jazz Performance, Big Band',\n",
    "        'Best Contemporary Jazz Album',\n",
    "        'Best Jazz Composition Of More Than Five Minutes Duration',\n",
    "        'Best Jazz Performance - Soloist Or Small Group (Instrumental)',\n",
    "        'Best Jazz Performance - Large Group (Instrumental)',\n",
    "        'Best Performance By An Orchestra - For Dancing',\n",
    "        'Best Performance By An Orchestra Or Instrumentalist With Orchestra - Primarily Not Jazz Or For Dancing',\n",
    "        'Best Jazz Vocal Performance, Duo Or Group',\n",
    "        'Best Jazz Instrumental Performance, Soloist (On A Jazz Recording)'\n",
    "    ],\n",
    "    'Gospel/Christian------': [\n",
    "        'Gospel/Christian',\n",
    "        'Gospel/Christian (Continuación)',\n",
    "        'Best Gospel Performance, Contemporary Or Inspirational',\n",
    "        'Best Gospel Performance (Other Than Soul Gospel)',\n",
    "        'Best Gospel Vocal Performance',\n",
    "        'Best Gospel Vocal Performance, Female',\n",
    "        'Best Gospel Vocal Performance, Male',\n",
    "        'Best Gospel Vocal Performance By A Duo, Group, Choir Or Chorus',\n",
    "        'Best Soul Gospel Vocal Performance, Male Or Female',\n",
    "        'Best Soul Gospel Vocal Performance Duo, Group, Choir Or Chorus',\n",
    "        'Best Southern, Country Or Bluegrass Gospel Album',\n",
    "        'Best Gospel Or Other Religious Recording (Musical)',\n",
    "        'Best Gospel Performance By A Choir Or Chorus',\n",
    "        'Best Rock Or Rap Gospel Album',\n",
    "        'Best Southern, Country, Or Bluegrass Gospel Album',\n",
    "        'Best Gospel Album By A Choir Or Chorus',\n",
    "        'Best Gospel Album',\n",
    "        'Best Contemporary Christian Music Performance/Song',\n",
    "        'Best Contemporary Christian Music Album',\n",
    "        'Best Gospel/Contemporary Christian Music Performance',\n",
    "        'Best Traditional Gospel Album',\n",
    "        'Best Reggae Album',\n",
    "        'Best Latin Rock, Urban or Alternative Album',\n",
    "        'Best Tejano Album',\n",
    "        'Best Norteño Album',\n",
    "        'Best Banda Album',\n",
    "        'Best Latin Urban Album',\n",
    "        'Best Gospel Vocal Performance, Female',\n",
    "        'Best Gospel Vocal Performance, Male',\n",
    "        'Best Gospel Vocal Performance By A Duo, Group, Choir Or Chorus',\n",
    "        'Best Soul Gospel Vocal Performance, Male Or Female',\n",
    "        'Best Soul Gospel Vocal Performance Duo, Group, Choir Or Chorus',\n",
    "        'Best Gospel Performance, Contemporary',\n",
    "        'Best Gospel Performance, Traditional',\n",
    "        'Best Gospel Performance By A Duo Or Group',\n",
    "        'Best Soul Gospel Performance By A Duo Or Group',\n",
    "        'Best Gospel Performance, Contemporary Or Inspirational'\n",
    "    ],\n",
    "    'Latin------': [\n",
    "        'Latin',\n",
    "        'Best Latin Jazz Album',\n",
    "        'Best Latin Pop Album',\n",
    "        'Best Regional Mexican Music Album (Including Tejano)',\n",
    "        'Best Tropical Latin Album',\n",
    "        'Best Mexican/Mexican-American Album',\n",
    "        'Best Latin Rock, Alternative Or Urban Album',\n",
    "        'Best Traditional Tropical Latin Album',\n",
    "        'Best Salsa/Merengue Album',\n",
    "        'Best Latin Rock/Alternative Album',\n",
    "        'Best Latin Urban Album',\n",
    "        'Best Latin Pop, Rock, Or Urban Album',\n",
    "        'Best Regional Mexican Or Tejano Album',\n",
    "        'Best Banda Or Norteño Album',\n",
    "        'Best Small Ensemble Performance',\n",
    "        'Best Latin Pop Performance',\n",
    "        'Best Latin Rock/Alternative Performance',\n",
    "        'Best Traditional Tropical Latin Performance',\n",
    "        'Best Salsa Performance',\n",
    "        'Best Merengue Performance',\n",
    "        'Best Mexican-American Performance',\n",
    "        'Best Tejano Performance',\n",
    "        'Best Latin Performance',\n",
    "        'Best Latin Pop Performance',\n",
    "        'Best Latin Rock/Alternative Performance',\n",
    "        'Best Latin Urban Performance',\n",
    "        'Best Traditional Tropical Latin Performance',\n",
    "        'Best Salsa Performance',\n",
    "        'Best Merengue Performance',\n",
    "        'Best Mexican-American Music Performance',\n",
    "        'Best Tejano Music Performance',\n",
    "        'Best Latin Pop Performance - Duo Or Group',\n",
    "        'Best Latin Rock Or Alternative Performance',\n",
    "        'Best Traditional Latin Tropical Performance',\n",
    "        'Best Salsa Or Merengue Performance',\n",
    "        'Best Mexican-American Or Tejano Music Performance',\n",
    "        'Best Latin Jazz Performance',\n",
    "        'Best Latin Pop Performance - Female',\n",
    "        'Best Latin Pop Performance - Male',\n",
    "        'Best Latin Rock/Alternative Performance - Duo Or Group',\n",
    "        'Best Latin Rock/Alternative Performance - Female',\n",
    "        'Best Latin Rock/Alternative Performance - Male',\n",
    "        'Best Latin Urban Performance - Duo Or Group',\n",
    "        'Best Latin Urban Performance - Female',\n",
    "        'Best Latin Urban Performance - Male',\n",
    "        'Best Traditional Tropical Latin Performance - Female',\n",
    "        'Best Traditional Tropical Latin Performance - Male',\n",
    "        'Best Salsa Performance - Duo Or Group',\n",
    "        'Best Merengue Performance - Duo Or Group',\n",
    "        'Best Mexican-American Performance - Duo Or Group',\n",
    "        'Best Tejano Music Performance - Duo Or Group',\n",
    "        'Best Latin Jazz Performance - Duo Or Group',\n",
    "        'Best Latin Jazz Performance - Male',\n",
    "        'Best Latin Jazz Performance - Female'\n",
    "    ],\n",
    "    'Reggae------': [\n",
    "        'Reggae',\n",
    "        'Best Reggae Album'\n",
    "    ],\n",
    "    'World Music------': [\n",
    "        'World Music',\n",
    "        'Best World Music Album',\n",
    "        'Best Traditional World Music Album',\n",
    "        'Best Contemporary World Music Album',\n",
    "        'Best Musical Album For Children',\n",
    "        'Best Spoken Word Album For Children',\n",
    "        'Best Spoken Word Album (Includes Poetry, Audio Books & Story Telling)',\n",
    "        'Best Song Written For Visual Media',\n",
    "        'Best Song Written For A Motion Picture, Television Or Other Visual Media.'\n",
    "    ],\n",
    "    'Children\\'s/Spoken Word/Comedy------': [\n",
    "        'Children\\'s/Spoken Word/Comedy',\n",
    "        'Best Comedy Album',\n",
    "        'Best Spoken Word Album (Includes Poetry, Audio Books & Storytelling)',\n",
    "        'Best Spoken Word Album',\n",
    "        'Best Spoken Comedy Album',\n",
    "        'Best Spoken Word Album for Children',\n",
    "        'Best Boxed Recording Package',\n",
    "        'Best Album For Children',\n",
    "        'Best Musical Show Album'\n",
    "    ],\n",
    "    'Other------': [\n",
    "        'Other',\n",
    "        'Miscellaneous',\n",
    "        'Best Compilation Soundtrack Album For A Motion Picture, Television Or Other Visual Media',\n",
    "        'Best Score Soundtrack Album For A Motion Picture, Television Or Other Visual Media',\n",
    "        'Best Song Written For A Motion Picture, Television Or Other Visual Media',\n",
    "        'Best Instrumental Arrangement Accompanying A Vocalist(s)',\n",
    "        'Best Spoken Word Album (Includes Poetry, Audio Books & Storytelling)',\n",
    "        'Best New Age Album',\n",
    "        'Best Traditional Folk Album',\n",
    "        'Best Contemporary Folk Album',\n",
    "        'Best Hawaiian Music Album',\n",
    "        'Best Native American Music Album',\n",
    "        'Best Zydeco Or Cajun Music Album',\n",
    "        'Best Traditional World Music Album',\n",
    "        'Best Contemporary World Music Album',\n",
    "        'Best Musical Show Album',\n",
    "        'Best Compilation Soundtrack Album For Motion Picture, Television Or Other Visual Media',\n",
    "        'Best Score Soundtrack Album For Motion Picture, Television Or Other Visual Media',\n",
    "        'Best Song Written For Motion Picture, Television Or Other Visual Media',\n",
    "        'Best Classical Album',\n",
    "        'Best Instrumental Soloist(s) Performance (With Orchestra)',\n",
    "        'Best Instrumental Soloist Performance (Without Orchestra)',\n",
    "        'Best Chamber Music Performance',\n",
    "        'Best Classical Vocal Performance',\n",
    "        'Best Classical Contemporary Composition',\n",
    "        'Best Classical Crossover Album',\n",
    "        'Best Regional Mexican Album',\n",
    "        'Best Latin Rock Or Alternative Album',\n",
    "        'Best Latin Urban Album',\n",
    "        'Best Contemporary Folk/Americana Album',\n",
    "        'Best Polka Album',\n",
    "        'Best Pop Performance By A Duo Or Group With Vocal',\n",
    "        'Best Sound Track Album/Recording',\n",
    "        'Best Original Score Written For A Motion Picture Or A Television Special',\n",
    "        'Best Producer Of The Year',\n",
    "        'Best Album Notes (Classical)',\n",
    "        'Best Engineered Recording (Non-Classical)',\n",
    "        'Best Engineered Recording (Classical)',\n",
    "        'Best Album Cover (Other Than Classical)',\n",
    "        'Best Sound Track Album/Recording'\n",
    "    ],\n",
    "    'Classical------': [\n",
    "        'Classical',\n",
    "        'Classical (Continuación)',\n",
    "        'Best Classical Engineered Recording',\n",
    "        'Classical Producer Of The Year',\n",
    "        'Classical Producer Of The Year, Classical',\n",
    "        'Best Choral Performance, Classical (Other Than Opera)',\n",
    "        'Best Classical Performance - Instrumental Soloist Or Soloists (With Orchestra)',\n",
    "        'Best Classical Performance - Instrumental Soloist OR Soloists (With Orchestra)',\n",
    "        'Best Classical Performance- Instrumental Soloist Or Soloists (Without Orchestra)',\n",
    "        'Best Classical Performance - Instrumentalist (With Concerto Scale Accompaniment)',\n",
    "        'Best Classical Performance - Instrumentalist (Other Than Concerto-Scale Accompaniment)',\n",
    "        'Best Classical Performance - Operatic Or Choral',\n",
    "        'Best Classical Vocal Soloist Performance (With Or Without Orchestra)',\n",
    "        'Best Classical Performance, Instrumental Soloist(s) (With Orchestra)',\n",
    "        'Best Classical Performance, Instrumental Soloist(s) (Without Orchestra)',\n",
    "        'Best Classical Performance - Chamber Music (Including Chamber Orchestra)',\n",
    "        'Best Classical Performance - Concerto Or Instrumental Soloist (With Full Orchestral Accompaniment)',\n",
    "        'Best Choral Performance (Other Than Opera)',\n",
    "        'Best Classical Performance, Instrumental Soloist (With Orchestra)',\n",
    "        'Best Classical Performance, Instrumental Soloist (Without Orchestra)',\n",
    "        'Best Chamber Music Or Other Small Ensemble Performance',\n",
    "        'Best Engineered Recording - Classical',\n",
    "        'Best Orchestral Recording',\n",
    "        'Best Classical Performance - Instrumental Soloist(s) (With Orchestra)',\n",
    "        'Best Classical Performance - Instrumental Soloist(s) (Without Orchestra)',\n",
    "        'Best Classical Orchestral Recording',\n",
    "        'Best Album Notes, Classical',\n",
    "        'Best New Classical Artist',\n",
    "        'Best New Classical Composition',\n",
    "        'Best Classical Performance - Concerto Or Instrumental Soloist (Other Than Full Orchestral Accompaniment)',\n",
    "        'Best Classical Performance - Vocal Soloist',\n",
    "        'Best Classical Opera Production',\n",
    "        'Album Of The Year - Classical',\n",
    "        'Album Of The Year, Classical',\n",
    "        'Best Engineered Recording',\n",
    "        'Best Engineered Recording - Classical',\n",
    "        'Best Engineered Recording - Non-Classical',\n",
    "        'Best Engineered Recording (Classical)',\n",
    "        'Best Engineered Recording (Non-Classical)',\n",
    "        'Album Of Best Original Score Written For A Motion Picture Or Television Special',\n",
    "        'Best Classical Chamber Music Performance - Instrumental Or Vocal',\n",
    "        'Best Classical Performance, Orchestra',\n",
    "        'Best Composition By A Contemporary Classical Composer',\n",
    "        'Most Promising New Classical Recording Artist',\n",
    "        'Best Album Notes, Classical',\n",
    "        'Best Album Cover, Photography',\n",
    "        'Best Album Cover, Graphic Arts',\n",
    "        'Best Album Cover - Other Than Classical',\n",
    "        'Best Album Cover - Classical',\n",
    "        'Best Engineering Contribution - Classical Recording',\n",
    "        'Best Engineered Record (Classical)',\n",
    "        'Best Engineered Recording - Classical',\n",
    "        'Best Engineered Recording - Other Than Classical Or Novelty'\n",
    "    ],\n",
    "    'Production/Engineering------': [\n",
    "        'Production/Engineering',\n",
    "        'Best Engineered Album - Non-Classical',\n",
    "        'Producer Of The Year',\n",
    "        'Producer Of The Year, Non-Classical',\n",
    "        'Best Engineered Recording - Special Or Novel Effects',\n",
    "        'Best Engineering Contribution - Other Than Classical Or Novelty',\n",
    "        'Best Engineering Contribution - Novelty Recording',\n",
    "        'Best Engineering Contribution',\n",
    "        'Best Engineering Contribution - Popular Recording',\n",
    "        'Best Engineering Contribution - Other Than Classical Or Novelty'\n",
    "    ],\n",
    "    'Children\\'s Album------': [\n",
    "        'Children\\'s Album',\n",
    "        'Best Album For Children',\n",
    "        'Best Children\\'s Music Album',\n",
    "        'Best Recording For Children',\n",
    "        'Best Musical Cast Show Album'\n",
    "    ],\n",
    "    'Surround Sound Album------': [\n",
    "        'Surround Sound Album',\n",
    "        'Best Surround Sound Album'\n",
    "    ],\n",
    "    'Soundtracks/Music Videos------': [\n",
    "        'Soundtracks/Music Videos',\n",
    "        'Best Compilation Soundtrack Album For Visual Media',\n",
    "        'Best Score Soundtrack Album For Visual Media',\n",
    "        'Best Music Video',\n",
    "        'Best Music Film'\n",
    "    ],\n",
    "    'Folk/World Music------': [\n",
    "        'Folk/World Music',\n",
    "        'Best Folk Recording',\n",
    "        'Best Traditional Pop Vocal Performance',\n",
    "        'Best Traditional Pop Vocal Performance, Male Or Female',\n",
    "        'Best Traditional Pop Vocal Performance - Male',\n",
    "        'Best Traditional Pop Vocal Performance - Female',\n",
    "        'Best Pop Vocal Collaboration',\n",
    "        'Best Country Vocal Collaboration',\n",
    "        'Best Latin Pop Performance - Duo Or Group',\n",
    "        'Best Pop Performance By A Duo Or Group With Vocals',\n",
    "        'Best Pop Collaboration With Vocals',\n",
    "        'Best Pop Instrumental Performance',\n",
    "        'Best Pop Vocal Collaboration',\n",
    "        'Best Contemporary Single/Album'\n",
    "    ],\n",
    "    'Spoken Word Album/Documentary/Drama------': [\n",
    "        'Spoken Word Album',\n",
    "        'Best Spoken Word Album',\n",
    "        'Best Spoken Word Or Drama Recording',\n",
    "        'Best Spoken Word Album (Includes Poetry, Audio Books & Storytelling)',\n",
    "        'Best Comedy Recording',\n",
    "        'Best Comedy Performance',\n",
    "        'Best Comedy Album',\n",
    "        'Best Comedy Album',\n",
    "        'Best Comedy Album',\n",
    "        'Best Spoken Word Album for Children',\n",
    "        'Best Spoken Word Or Non-Musical Album',\n",
    "        'Best Spoken Word Or Non-Musical Recording',\n",
    "        'Best Comedy Recording',\n",
    "        'Best Spoken Word Or Drama Recording',\n",
    "        'Best Comedy Album',\n",
    "        'Best Spoken Word, Documentary Or Drama',\n",
    "        'Best Spoken Word Recording',\n",
    "        'Best Spoken Word Album',\n",
    "        'Best Spoken Word Or Drama Recording',\n",
    "        'Best Spoken Comedy Album',\n",
    "        'Best Spoken Word Album for Children',\n",
    "        'Best Spoken Word Or Non-Musical Album',\n",
    "        'Best Documentary, Spoken Word Or Drama Recording (Other Than Comedy)',\n",
    "        'Best Comedy Performance',\n",
    "        'Best Comedy Album',\n",
    "        'Best Comedy Performance - Spoken Word'\n",
    "    ],\n",
    "    'Song Written For Visual Media------': [\n",
    "        'Song Written For Visual Media',\n",
    "        'Best Song Written For Visual Media',\n",
    "        'Best Song Written For A Motion Picture, Television Or Other Visual Media.',\n",
    "        'Best Song Written Specifically For A Motion Picture Or For Television',\n",
    "        'Best Song Written For A Motion Picture, Television Or Other Visual Media.',\n",
    "        'Best Song Written For A Motion Picture Or For Television',\n",
    "        'Best Rhythm & Blues Song',\n",
    "        'Best Original Score Written For A Motion Picture Or A Television Show',\n",
    "        'Best Original Score Written For A Motion Picture Or A Television Special',\n",
    "        'Best Original Score From A Motion Picture Or Television Show',\n",
    "        'Best Composition By A Contemporary Composer',\n",
    "        'Best Contemporary Composition'\n",
    "    ],\n",
    "    'Instrumental Soloist Performance------': [\n",
    "        'Instrumental Soloist Performance',\n",
    "        'Best Instrumental Composition',\n",
    "        'Best Instrumental Composition Written For A Motion Picture, Television Or Other Visual Media.',\n",
    "        'Best Instrumental Soloist(s) Performance (With Orchestra)',\n",
    "        'Best Instrumental Soloist Performance (Without Orchestra)',\n",
    "        'Best Instrumental Performance',\n",
    "        'Best Classical Choral Performance',\n",
    "        'Best Instrumental Arrangement',\n",
    "        'Best Instrumental Arrangement With Accompanying Vocal(s)',\n",
    "        'Best Arrangement Accompanying Vocals/Instrumentals',\n",
    "        'Best Instrumental Arrangement Accompanying A Vocalist(s)',\n",
    "        'Best Instrumental Arrangement Accompanying Vocal(s)'\n",
    "    ],\n",
    "    'Southern/Country/Bluegrass Gospel------': [\n",
    "        'Southern/Country/Bluegrass Gospel',\n",
    "        'Best Southern, Country, Or Bluegrass Gospel Album',\n",
    "        'Best Traditional Soul Gospel Album',\n",
    "        'Best Contemporary Soul Gospel Album',\n",
    "        'Best Gospel Choir Or Chorus Album',\n",
    "        'Best Gospel Album By A Choir Or Chorus'\n",
    "    ],\n",
    "    'Mexican-American/Tejano Music------': [\n",
    "        'Mexican-American/Tejano Music',\n",
    "        'Best Mexican-American Music Performance',\n",
    "        'Best Tejano Music Performance',\n",
    "        'Best Mexican-American Album'\n",
    "    ],\n",
    "    'Étnico y Tradicional------': [\n",
    "        'Best Ethnic Or Traditional Recording',\n",
    "        'Best Ethnic Or Traditional Folk Recording',\n",
    "        'Best Latin Recording',\n",
    "        'Best Ethnic Or Traditional Recording (Including Traditional Blues)',\n",
    "        'Best Traditional Soul Gospel Performance',\n",
    "        'Best Traditional Blues Recording',\n",
    "        'Best Contemporary Blues Recording',\n",
    "        'Best Traditional Folk Recording',\n",
    "        'Best Polka Recording',\n",
    "        'Best Gospel Performance, Female',\n",
    "        'Best Gospel Performance, Male',\n",
    "        'Best Gospel Performance Contemporary Or Inspirational',\n",
    "        'Best Southern Gospel Album',\n",
    "        'Best Album Package',\n",
    "        'Best Album Cover - Photography',\n",
    "        'Best Album Cover - Graphic Arts',\n",
    "        'Best Album Cover - Boxed',\n",
    "        'Best Album Or Original Instrumental Background Score Written For A Motion Picture Or Television',\n",
    "        'Best Album Of Original Score Written For A Motion Picture Or A Television Special',\n",
    "        'Best Album Of Original Instrumental Background Score Written For A Motion Picture Or Television',\n",
    "        'Música de Escena y Musicales'\n",
    "    ],\n",
    "    'Video y Multimedia------': [\n",
    "        'Best Performance Music Video',\n",
    "        'Best Concept Music Video',\n",
    "        'Best Video, Short Form',\n",
    "        'Best Video Album'\n",
    "    ],\n",
    "    'Otras Categorías Relacionadas------': [\n",
    "        'Producer Of The Year, (Non-Classical)',\n",
    "        'Best New Age Recording',\n",
    "        'Best Inspirational Performance',\n",
    "        'Best New Artist Of 1963',\n",
    "        'Best Album Cover - Other Than Classical'\n",
    "    ],\n",
    "    'Música de Escena y Musicales ------': [\n",
    "        'Best Musical Cast Show Album',\n",
    "        'Best Album Of Original Instrumental Background Score Written For A Motion Picture Or Television Special',\n",
    "        'Best Song Written Specifically For A Motion Picture Or Television',\n",
    "        'Best Album Of Original Score Written For A Motion Picture Or Television Special',\n",
    "        'Best Original Score Written For A Motion Picture Or A Television Special',\n",
    "        'Best Sound Track Album Or Recording Of Music Score From Motion Picture Or Television'\n",
    "    ],\n",
    "    'Arrangement Categories--------': [\n",
    "        'Best Arrangement, Instrumental or A Cappella',\n",
    "        'Best Arrangement, Instruments and Vocals',\n",
    "        'Best Arrangement On An Instrumental',\n",
    "        'Best Arrangement On An Instrumental Recording',\n",
    "        'Best Arrangement Accompanying Vocalist(s)',\n",
    "        'Best Arrangement For Voices',\n",
    "        'Best Arrangement Accompanying Vocal(s)',\n",
    "        'Best Arrangement Accompanying Vocals',\n",
    "        'Best Arrangement For Voices (Duo, Group Or Chorus)',\n",
    "        'Best Arrangement Accompanying Vocalists',\n",
    "        'Best Accompaniment Arrangement For Vocalist(s) Or Instrumentalist(s)',\n",
    "        'Best Background Arrangement (Behind vocalist or instrumentalist)'\n",
    "    ],\n",
    "    'Main Recording Categories---------:': [\n",
    "        'Record Of The Year',\n",
    "        'Album Of The Year',\n",
    "        'Song Of The Year',\n",
    "        'Best New Artist',\n",
    "        'Best American Roots Performance',\n",
    "        'Best American Roots Song',\n",
    "        'Best Americana Album',\n",
    "        'Best Bluegrass Album',\n",
    "        'Best Musical Theater Album',\n",
    "        'Best Compilation Soundtrack For Visual Media',\n",
    "        'Best Score Soundtrack For Visual Media',\n",
    "        'Best Immersive Audio Album',\n",
    "        'Best Orchestral Performance',\n",
    "        'Best Opera Recording',\n",
    "        'Best Choral Performance',\n",
    "        'Best Chamber Music/Small Ensemble Performance',\n",
    "        'Best Blues Album',\n",
    "        'Best Gospel Performance',\n",
    "        'Best Alternative Music Performance',\n",
    "        'Best Soundtrack Album',\n",
    "        'Best Recording Package',\n",
    "        'Best Boxed Or Special Limited Edition Package',\n",
    "        'Best Album Notes',\n",
    "        'Best Historical Album',\n",
    "        'Best Remixed Recording'\n",
    "    ],\n",
    "    'Recording and Performance Categories----': [\n",
    "        'Best Cast Show Album',\n",
    "        'Best Sacred Performance',\n",
    "        'Best Sacred Performance (Musical)',\n",
    "        'Best Folk Performance',\n",
    "        'Best Vocal Performance Single Record Or Track, Female',\n",
    "        'Best Vocal Performance Album, Female',\n",
    "        'Best Vocal Performance Single Record Or Track, Male',\n",
    "        'Best Vocal Performance Album, Male',\n",
    "        'Best Performance By A Band For Dancing',\n",
    "        'Best Performance By An Orchestra',\n",
    "        'Best Performance By A Vocal Group (2 To 6)',\n",
    "        'Best Performance By A Chorus (7 Or More Persons)',\n",
    "        'Best Show Album (Original Cast)',\n",
    "        'Best Performance - Folk',\n",
    "        'Best Album Created For Children',\n",
    "        'Best Musical Composition First Recorded And Released In 1959 (More Than 5 Minutes Duration)',\n",
    "        'Best Musical Composition First Recorded And Released In 1958 (Over 5 Minutes Duration)',\n",
    "        'Best Original Cast Album (Broadway Or TV)',\n",
    "        'Best Sound Track Album, Dramatic Picture Score Or Original Cast',\n",
    "        'Best Performance, Documentary Or Spoken Word',\n",
    "    ],\n",
    "    'Composition and Lyrics Categories-----': [\n",
    "        'Best Original Score Written For A Motion Picture Or Television Show',\n",
    "        'Best Original Score Written For A Motion Picture Or A Television Show',\n",
    "        'Best Original Score Written For A Motion Picture Or A Television Special',\n",
    "        'Best Contemporary Single',\n",
    "        'Best Contemporary Group Performance (Vocal Or Instrumental)',\n",
    "    ],\n",
    "    'Musical Arrangement Categories----': [\n",
    "        'Best Arrangement Accompanying A Vocalist Or Instrumentalist',\n",
    "        'Best Arrangement',\n",
    "        'Best Vocal Arrangement For Two Or More Voices',\n",
    "        'Best Arrangement Accompanying Vocalist(s)',\n",
    "        'Best Arrangement For Voices',\n",
    "        'Best Background Arrangement',\n",
    "    ],\n",
    "    'Album and Specific Recording Categories-----': [\n",
    "        'Best Historical Reissue Album',\n",
    "        'Best Disco Recording',\n",
    "        'Best Historical Reissue',\n",
    "        'Best Historical Repackage Album',\n",
    "        'Best Sound Track Album Or Recording Of Score From Motion Picture Or Television',\n",
    "        'Best Sound Track Album Or Recording Of Original Cast From Motion Picture Or Television',\n",
    "        'Best Sound Track Album - Background Score From A Motion Picture Or Television',\n",
    "        'Best Sound Track Album, Original Cast - Motion Picture Or Television',\n",
    "        'Best Broadway Show Album',\n",
    "        'Best Album Cover',\n",
    "        'Best Album Package',\n",
    "        'Best Album Notes',\n",
    "        'Best Boxed Or Special Limited Edition Package',\n",
    "    ],\n",
    "    'Special Categories----': [\n",
    "        'Video Of The Year',\n",
    "        'Best Video (if applicable)',\n",
    "    ],\n",
    "     'Categories Related to Vocal and Group Performances---': [\n",
    "        'Best Contemporary Vocal Performance, Female',\n",
    "        'Best Contemporary Vocal Performance, Male',\n",
    "        'Best Contemporary Vocal Performance By A Group',\n",
    "        'Best Vocal Soloist Performance',\n",
    "        'Best Vocal Performance, Female',\n",
    "        'Best Vocal Performance, Male',\n",
    "        'Best Performance By A Vocal Group',\n",
    "        'Best Performance By A Chorus'\n",
    "    ],\n",
    "    'Categories Related to Classical Music Recordings---': [\n",
    "        'Best Instrumental Soloist With Orchestra',\n",
    "        'Best Performance Of A Choral Work',\n",
    "        'Best Performance - Instrumental Soloist Or Soloists (With Orchestra)',\n",
    "        'Best Performance - Instrumental Soloist Or Soloists (Without Orchestra)',\n",
    "        'Best Vocal Soloist Performance (With Or Without Orchestra)'\n",
    "    ],\n",
    "    'Categories Related to Theater and Film Recordings---': [\n",
    "        'Best Score From The Original Cast Show Album',\n",
    "        'Best Score From An Original Cast Show Album',\n",
    "        'Best Original Cast Show Album',\n",
    "        'Best Sound Track Album Or Recording Of Original Cast From A Motion Picture Or Television'\n",
    "    ],\n",
    "    'Categories Related to Specific Music Genres---': [\n",
    "        'Best Bluegrass Recording',\n",
    "        'Best Salsa Album',\n",
    "        'Best Merengue Album',\n",
    "        'Best R&B Vocal Performance, Female',\n",
    "        'Best R&B Vocal Performance, Male'\n",
    "    ],\n",
    "    'Music Video Categories---': [\n",
    "        'Best Short Form Music Video',\n",
    "        'Best Long Form Music Video'\n",
    "    ],\n",
    "    'Categorías de Grabación Contemporánea y de Instrumentales----': [\n",
    "        'Best Contemporary Instrumental Album',\n",
    "        'Best New Age Performance',\n",
    "        'Best Contemporary Folk Recording',\n",
    "    ],\n",
    "    'Categorías Relacionadas con Grabaciones de Teatro y Cine---': [\n",
    "        'Categories Related to Theater and Film Recordings',\n",
    "        'Best Musical Theater Album',\n",
    "        'Best Compilation Soundtrack For Visual Media',\n",
    "        'Best Score Soundtrack For Visual Media',\n",
    "        'Best Original Score Written For A Motion Picture Or A Television Show',\n",
    "        'Best Original Score From A Motion Picture Or Television Show',\n",
    "        'Best Original Score Written For A Motion Picture Or A Television Special',\n",
    "        'Música de Escena y Musicales',\n",
    "    ],\n",
    "    'Categorías Relacionadas con Interpretaciones Vocales y de Grupos----': [\n",
    "        'Best Vocal Soloist Performance',\n",
    "        'Best Vocal Performance, Female',\n",
    "        'Best Vocal Performance, Male',\n",
    "        'Best Performance By A Vocal Group',\n",
    "        'Best Performance By A Chorus',\n",
    "        'Best Performance - Instrumental Soloist Or Soloists (With Or Without Orchestra)',\n",
    "        'Best Performance - Orchestra',\n",
    "        'Best Chamber Performance - Instrumental',\n",
    "    ],\n",
    "    'Categorías de Interpretaciones Musicales con Tema Instrumental----': [\n",
    "        'Best Instrumental Theme',\n",
    "        'Best Instrumental Soloist(s) Performance (with Orchestra)',\n",
    "    ],\n",
    "    'Categorías Relacionadas con Cine y Teatro---': [\n",
    "        'Best Musical Theater Album',\n",
    "        'Best Compilation Soundtrack For Visual Media',\n",
    "        'Best Score Soundtrack For Visual Media',\n",
    "        'Best Original Score Written For A Motion Picture Or A Television Show',\n",
    "        'Best Original Score From A Motion Picture Or Television Show',\n",
    "        'Best Original Score Written For A Motion Picture Or A Television Special',\n",
    "        'Música de Escena y Musicales',\n",
    "    ],\n",
    "    'Categorías de Video Musical----': [\n",
    "        'Music Video Categories',\n",
    "    ],\n",
    "    'Categorías de Grabaciones de Música Sacra---': [\n",
    "        'Best Sacred Recording (Musical)',\n",
    "        'Best Gospel Or Other Religious Recording',\n",
    "        'Best Traditional Soul Gospel Performance',\n",
    "        'Best Traditional Blues Recording',\n",
    "        'Best Contemporary Blues Recording',\n",
    "        'Best Traditional Folk Recording',\n",
    "        'Best Polka Recording',\n",
    "        'Best Gospel Performance, Female',\n",
    "        'Best Gospel Performance, Male',\n",
    "        'Best Gospel Performance Contemporary Or Inspirational',\n",
    "        'Best Southern Gospel Album',\n",
    "        'Best Blues Album',\n",
    "        'Best Bluegrass Album',\n",
    "    ],\n",
    "}\n",
    "# Función para etiquetar las categorías correspondientes\n",
    "def etiquetar_categoria(category):\n",
    "    for clave, palabras_clave in categories.items():\n",
    "        for palabra_clave in palabras_clave:\n",
    "            if palabra_clave in category:\n",
    "                return clave\n",
    "    return category\n",
    "\n",
    "# Aplicar la función para etiquetar la categoría en una nueva columna\n",
    "df['category'] = df['category'].apply(etiquetar_categoria)"
   ],
   "metadata": {
    "colab": {
     "base_uri": "https://localhost:8080/",
     "height": 424
    },
    "id": "Bu2aVEwO9GXl",
    "outputId": "02973257-f7b6-4e3f-92ce-90170266e635",
    "ExecuteTime": {
     "end_time": "2023-10-12T17:11:38.779114700Z",
     "start_time": "2023-10-12T17:11:38.532702200Z"
    }
   },
   "id": "Bu2aVEwO9GXl",
   "execution_count": 26,
   "outputs": [
    {
     "data": {
      "text/plain": "      year                                           category  \\\n0     2019                                 RECORD OF THE YEAR   \n1     2019                                 RECORD OF THE YEAR   \n2     2019                                 RECORD OF THE YEAR   \n3     2019                                 RECORD OF THE YEAR   \n4     2019                                 RECORD OF THE YEAR   \n...    ...                                                ...   \n4805  1958  BEST CLASSICAL PERFORMANCE - INSTRUMENTALIST (...   \n4806  1958  BEST CLASSICAL PERFORMANCE - INSTRUMENTALIST (...   \n4807  1958  BEST CLASSICAL PERFORMANCE - CHAMBER MUSIC (IN...   \n4808  1958  BEST CLASSICAL PERFORMANCE - VOCAL SOLOIST (WI...   \n4809  1958    BEST CLASSICAL PERFORMANCE - OPERATIC OR CHORAL   \n\n                                                nominee         artist  winner  \n0                                               BAD GUY  BILLIE EILISH       1  \n1                                               HEY, MA       BON IVER       1  \n2                                               7 RINGS  ARIANA GRANDE       1  \n3                                            HARD PLACE         H.E.R.       1  \n4                                                  TALK         KHALID       1  \n...                                                 ...            ...     ...  \n4805  TCHAIKOVSKY: PIANO CONCERTO NO. 1 IN B FLAT MI...            NaN       1  \n4806                             SEGOVIA GOLDEN JUBILEE            NaN       1  \n4807                             BEETHOVEN: QUARTET 130            NaN       1  \n4808                                   OPERATIC RECITAL            NaN       1  \n4809                                           VIRTUOSO            NaN       1  \n\n[4804 rows x 5 columns]",
      "text/html": "<div>\n<style scoped>\n    .dataframe tbody tr th:only-of-type {\n        vertical-align: middle;\n    }\n\n    .dataframe tbody tr th {\n        vertical-align: top;\n    }\n\n    .dataframe thead th {\n        text-align: right;\n    }\n</style>\n<table border=\"1\" class=\"dataframe\">\n  <thead>\n    <tr style=\"text-align: right;\">\n      <th></th>\n      <th>year</th>\n      <th>category</th>\n      <th>nominee</th>\n      <th>artist</th>\n      <th>winner</th>\n    </tr>\n  </thead>\n  <tbody>\n    <tr>\n      <th>0</th>\n      <td>2019</td>\n      <td>RECORD OF THE YEAR</td>\n      <td>BAD GUY</td>\n      <td>BILLIE EILISH</td>\n      <td>1</td>\n    </tr>\n    <tr>\n      <th>1</th>\n      <td>2019</td>\n      <td>RECORD OF THE YEAR</td>\n      <td>HEY, MA</td>\n      <td>BON IVER</td>\n      <td>1</td>\n    </tr>\n    <tr>\n      <th>2</th>\n      <td>2019</td>\n      <td>RECORD OF THE YEAR</td>\n      <td>7 RINGS</td>\n      <td>ARIANA GRANDE</td>\n      <td>1</td>\n    </tr>\n    <tr>\n      <th>3</th>\n      <td>2019</td>\n      <td>RECORD OF THE YEAR</td>\n      <td>HARD PLACE</td>\n      <td>H.E.R.</td>\n      <td>1</td>\n    </tr>\n    <tr>\n      <th>4</th>\n      <td>2019</td>\n      <td>RECORD OF THE YEAR</td>\n      <td>TALK</td>\n      <td>KHALID</td>\n      <td>1</td>\n    </tr>\n    <tr>\n      <th>...</th>\n      <td>...</td>\n      <td>...</td>\n      <td>...</td>\n      <td>...</td>\n      <td>...</td>\n    </tr>\n    <tr>\n      <th>4805</th>\n      <td>1958</td>\n      <td>BEST CLASSICAL PERFORMANCE - INSTRUMENTALIST (...</td>\n      <td>TCHAIKOVSKY: PIANO CONCERTO NO. 1 IN B FLAT MI...</td>\n      <td>NaN</td>\n      <td>1</td>\n    </tr>\n    <tr>\n      <th>4806</th>\n      <td>1958</td>\n      <td>BEST CLASSICAL PERFORMANCE - INSTRUMENTALIST (...</td>\n      <td>SEGOVIA GOLDEN JUBILEE</td>\n      <td>NaN</td>\n      <td>1</td>\n    </tr>\n    <tr>\n      <th>4807</th>\n      <td>1958</td>\n      <td>BEST CLASSICAL PERFORMANCE - CHAMBER MUSIC (IN...</td>\n      <td>BEETHOVEN: QUARTET 130</td>\n      <td>NaN</td>\n      <td>1</td>\n    </tr>\n    <tr>\n      <th>4808</th>\n      <td>1958</td>\n      <td>BEST CLASSICAL PERFORMANCE - VOCAL SOLOIST (WI...</td>\n      <td>OPERATIC RECITAL</td>\n      <td>NaN</td>\n      <td>1</td>\n    </tr>\n    <tr>\n      <th>4809</th>\n      <td>1958</td>\n      <td>BEST CLASSICAL PERFORMANCE - OPERATIC OR CHORAL</td>\n      <td>VIRTUOSO</td>\n      <td>NaN</td>\n      <td>1</td>\n    </tr>\n  </tbody>\n</table>\n<p>4804 rows × 5 columns</p>\n</div>"
     },
     "execution_count": 26,
     "metadata": {},
     "output_type": "execute_result"
    }
   ]
  },
  {
   "cell_type": "code",
   "source": [
    "valores_unicos_category1 = df[\"category\"].nunique()\n",
    "valores_unicos_category1\n"
   ],
   "metadata": {
    "colab": {
     "base_uri": "https://localhost:8080/"
    },
    "id": "2wLuJ7g4k7bw",
    "outputId": "9cc0a923-5f75-4a3a-c03b-875f3884d788",
    "ExecuteTime": {
     "end_time": "2023-10-12T17:11:52.370376100Z",
     "start_time": "2023-10-12T17:11:52.339132400Z"
    }
   },
   "id": "2wLuJ7g4k7bw",
   "execution_count": 29,
   "outputs": [
    {
     "data": {
      "text/plain": "627"
     },
     "execution_count": 29,
     "metadata": {},
     "output_type": "execute_result"
    }
   ]
  }
 ],
 "metadata": {
  "kernelspec": {
   "display_name": "Python 3",
   "language": "python",
   "name": "python3"
  },
  "language_info": {
   "codemirror_mode": {
    "name": "ipython",
    "version": 2
   },
   "file_extension": ".py",
   "mimetype": "text/x-python",
   "name": "python",
   "nbconvert_exporter": "python",
   "pygments_lexer": "ipython2",
   "version": "2.7.6"
  },
  "colab": {
   "provenance": []
  }
 },
 "nbformat": 4,
 "nbformat_minor": 5
}
